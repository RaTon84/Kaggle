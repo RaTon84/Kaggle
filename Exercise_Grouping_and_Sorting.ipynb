{
  "metadata": {
    "kernelspec": {
      "display_name": "Python 3",
      "language": "python",
      "name": "python3"
    },
    "language_info": {
      "name": "python",
      "version": "3.10.14",
      "mimetype": "text/x-python",
      "codemirror_mode": {
        "name": "ipython",
        "version": 3
      },
      "pygments_lexer": "ipython3",
      "nbconvert_exporter": "python",
      "file_extension": ".py"
    },
    "kaggle": {
      "accelerator": "none",
      "dataSources": [
        {
          "sourceId": 1252,
          "sourceType": "datasetVersion",
          "datasetId": 655
        },
        {
          "sourceId": 3919,
          "sourceType": "datasetVersion",
          "datasetId": 2321
        },
        {
          "sourceId": 4877,
          "sourceType": "datasetVersion",
          "datasetId": 2894
        },
        {
          "sourceId": 5624,
          "sourceType": "datasetVersion",
          "datasetId": 3491
        },
        {
          "sourceId": 8172,
          "sourceType": "datasetVersion",
          "datasetId": 1442
        },
        {
          "sourceId": 13206,
          "sourceType": "datasetVersion",
          "datasetId": 9366
        },
        {
          "sourceId": 403916,
          "sourceType": "datasetVersion",
          "datasetId": 179555
        },
        {
          "sourceId": 466349,
          "sourceType": "datasetVersion",
          "datasetId": 4549
        },
        {
          "sourceId": 1151655,
          "sourceType": "datasetVersion",
          "datasetId": 2478
        },
        {
          "sourceId": 5438389,
          "sourceType": "datasetVersion",
          "datasetId": 10128
        }
      ],
      "isInternetEnabled": false,
      "language": "python",
      "sourceType": "notebook",
      "isGpuEnabled": false
    },
    "colab": {
      "name": "Exercise: Grouping and Sorting",
      "provenance": [],
      "include_colab_link": true
    }
  },
  "nbformat_minor": 0,
  "nbformat": 4,
  "cells": [
    {
      "cell_type": "markdown",
      "metadata": {
        "id": "view-in-github",
        "colab_type": "text"
      },
      "source": [
        "<a href=\"https://colab.research.google.com/github/RaTon84/Kaggle/blob/main/Exercise_Grouping_and_Sorting.ipynb\" target=\"_parent\"><img src=\"https://colab.research.google.com/assets/colab-badge.svg\" alt=\"Open In Colab\"/></a>"
      ]
    },
    {
      "source": [
        "# IMPORTANT: RUN THIS CELL IN ORDER TO IMPORT YOUR KAGGLE DATA SOURCES,\n",
        "# THEN FEEL FREE TO DELETE THIS CELL.\n",
        "# NOTE: THIS NOTEBOOK ENVIRONMENT DIFFERS FROM KAGGLE'S PYTHON\n",
        "# ENVIRONMENT SO THERE MAY BE MISSING LIBRARIES USED BY YOUR\n",
        "# NOTEBOOK.\n",
        "import kagglehub\n",
        "nolanbconaway_pitchfork_data_path = kagglehub.dataset_download('nolanbconaway/pitchfork-data')\n",
        "datasnaek_chess_path = kagglehub.dataset_download('datasnaek/chess')\n",
        "organizations_nasa_kepler_exoplanet_search_results_path = kagglehub.dataset_download('organizations/nasa/kepler-exoplanet-search-results')\n",
        "residentmario_things_on_reddit_path = kagglehub.dataset_download('residentmario/things-on-reddit')\n",
        "zynicide_wine_reviews_path = kagglehub.dataset_download('zynicide/wine-reviews')\n",
        "residentmario_ramen_ratings_path = kagglehub.dataset_download('residentmario/ramen-ratings')\n",
        "dansbecker_powerlifting_database_path = kagglehub.dataset_download('dansbecker/powerlifting-database')\n",
        "datasnaek_youtube_new_path = kagglehub.dataset_download('datasnaek/youtube-new')\n",
        "rtatman_188_million_us_wildfires_path = kagglehub.dataset_download('rtatman/188-million-us-wildfires')\n",
        "jpmiller_publicassistance_path = kagglehub.dataset_download('jpmiller/publicassistance')\n",
        "\n",
        "print('Data source import complete.')\n"
      ],
      "metadata": {
        "id": "m0xqbhUABZY5"
      },
      "cell_type": "code",
      "outputs": [],
      "execution_count": null
    },
    {
      "cell_type": "markdown",
      "source": [
        "**This notebook is an exercise in the [Pandas](https://www.kaggle.com/learn/pandas) course.  You can reference the tutorial at [this link](https://www.kaggle.com/residentmario/grouping-and-sorting).**\n",
        "\n",
        "---\n"
      ],
      "metadata": {
        "id": "bGrMiiV4BZY7"
      }
    },
    {
      "cell_type": "markdown",
      "source": [
        "# Introduction\n",
        "\n",
        "In these exercises we'll apply groupwise analysis to our dataset.\n",
        "\n",
        "Run the code cell below to load the data before running the exercises."
      ],
      "metadata": {
        "id": "o9dwmdJjBZY8"
      }
    },
    {
      "cell_type": "code",
      "source": [
        "import pandas as pd\n",
        "\n",
        "reviews = pd.read_csv(\"../input/wine-reviews/winemag-data-130k-v2.csv\", index_col=0)\n",
        "#pd.set_option(\"display.max_rows\", 5)\n",
        "\n",
        "from learntools.core import binder; binder.bind(globals())\n",
        "from learntools.pandas.grouping_and_sorting import *\n",
        "print(\"Setup complete.\")"
      ],
      "metadata": {
        "trusted": true,
        "execution": {
          "iopub.status.busy": "2024-12-03T14:46:54.772519Z",
          "iopub.execute_input": "2024-12-03T14:46:54.772919Z",
          "iopub.status.idle": "2024-12-03T14:46:58.127896Z",
          "shell.execute_reply.started": "2024-12-03T14:46:54.772884Z",
          "shell.execute_reply": "2024-12-03T14:46:58.126771Z"
        },
        "id": "mlVLa1XiBZY8",
        "outputId": "8c5f2da0-4ea7-4e8e-a246-fa5d0182cca3"
      },
      "outputs": [
        {
          "name": "stdout",
          "text": "Setup complete.\n",
          "output_type": "stream"
        },
        {
          "name": "stderr",
          "text": "/opt/conda/lib/python3.10/site-packages/learntools/pandas/grouping_and_sorting.py:29: FutureWarning: The provided callable <built-in function min> is currently using SeriesGroupBy.min. In a future version of pandas, the provided callable will be used directly. To keep current behavior pass the string \"min\" instead.\n  _expected = reviews.groupby('variety').price.agg([min, max])\n/opt/conda/lib/python3.10/site-packages/learntools/pandas/grouping_and_sorting.py:29: FutureWarning: The provided callable <built-in function max> is currently using SeriesGroupBy.max. In a future version of pandas, the provided callable will be used directly. To keep current behavior pass the string \"max\" instead.\n  _expected = reviews.groupby('variety').price.agg([min, max])\n/opt/conda/lib/python3.10/site-packages/learntools/pandas/grouping_and_sorting.py:35: FutureWarning: The provided callable <built-in function min> is currently using SeriesGroupBy.min. In a future version of pandas, the provided callable will be used directly. To keep current behavior pass the string \"min\" instead.\n  _expected = reviews.groupby('variety').price.agg([min, max]).sort_values(by=['min', 'max'], ascending=False)\n/opt/conda/lib/python3.10/site-packages/learntools/pandas/grouping_and_sorting.py:35: FutureWarning: The provided callable <built-in function max> is currently using SeriesGroupBy.max. In a future version of pandas, the provided callable will be used directly. To keep current behavior pass the string \"max\" instead.\n  _expected = reviews.groupby('variety').price.agg([min, max]).sort_values(by=['min', 'max'], ascending=False)\n",
          "output_type": "stream"
        }
      ],
      "execution_count": null
    },
    {
      "cell_type": "markdown",
      "source": [
        "# Exercises"
      ],
      "metadata": {
        "id": "FNWz-V2gBZY8"
      }
    },
    {
      "cell_type": "markdown",
      "source": [
        "## 1.\n",
        "Who are the most common wine reviewers in the dataset? Create a `Series` whose index is the `taster_twitter_handle` category from the dataset, and whose values count how many reviews each person wrote."
      ],
      "metadata": {
        "id": "lB0JxxCmBZY9"
      }
    },
    {
      "cell_type": "code",
      "source": [
        "# Your code here\n",
        "# reviews_written = reviews[\"taster_twitter_handle\"].value_counts(ascending=False)\n",
        "reviews_written = reviews.groupby(\"taster_twitter_handle\").taster_twitter_handle.count()\n",
        "\n",
        "# Check your answer\n",
        "q1.check()\n",
        "print(reviews_written)\n",
        "reviews.head()"
      ],
      "metadata": {
        "trusted": true,
        "execution": {
          "iopub.status.busy": "2024-12-03T14:46:58.129662Z",
          "iopub.execute_input": "2024-12-03T14:46:58.130039Z",
          "iopub.status.idle": "2024-12-03T14:46:58.175571Z",
          "shell.execute_reply.started": "2024-12-03T14:46:58.130004Z",
          "shell.execute_reply": "2024-12-03T14:46:58.174604Z"
        },
        "id": "_DFtqNqTBZY9",
        "outputId": "e18592f7-1b02-40ba-c77b-29a319505ab2"
      },
      "outputs": [
        {
          "output_type": "display_data",
          "data": {
            "text/plain": "<IPython.core.display.Javascript object>",
            "application/javascript": "parent.postMessage({\"jupyterEvent\": \"custom.exercise_interaction\", \"data\": {\"outcomeType\": 1, \"valueTowardsCompletion\": 0.16666666666666666, \"interactionType\": 1, \"questionType\": 1, \"questionId\": \"1_ReviewsWritten\", \"learnToolsVersion\": \"0.3.4\", \"failureMessage\": \"\", \"exceptionClass\": \"\", \"trace\": \"\"}}, \"*\")"
          },
          "metadata": {}
        },
        {
          "output_type": "display_data",
          "data": {
            "text/plain": "Correct: \n\n\n```python\nreviews_written = reviews.groupby('taster_twitter_handle').size()\n```\nor\n```python\nreviews_written = reviews.groupby('taster_twitter_handle').taster_twitter_handle.count()\n```",
            "text/markdown": "<span style=\"color:#33cc33\">Correct:</span> \n\n\n```python\nreviews_written = reviews.groupby('taster_twitter_handle').size()\n```\nor\n```python\nreviews_written = reviews.groupby('taster_twitter_handle').taster_twitter_handle.count()\n```\n"
          },
          "metadata": {}
        },
        {
          "name": "stdout",
          "text": "taster_twitter_handle\n@AnneInVino          3685\n@JoeCz               5147\n@bkfiona               27\n@gordone_cellars     4177\n@kerinokeefe        10776\n@laurbuzz            1835\n@mattkettmann        6332\n@paulgwine           9532\n@suskostrzewa        1085\n@vboone              9537\n@vossroger          25514\n@wawinereport        4966\n@wineschach         15134\n@winewchristina         6\n@worldwineguys       1005\nName: taster_twitter_handle, dtype: int64\n",
          "output_type": "stream"
        },
        {
          "execution_count": 3,
          "output_type": "execute_result",
          "data": {
            "text/plain": "    country                                        description  \\\n0     Italy  Aromas include tropical fruit, broom, brimston...   \n1  Portugal  This is ripe and fruity, a wine that is smooth...   \n2        US  Tart and snappy, the flavors of lime flesh and...   \n3        US  Pineapple rind, lemon pith and orange blossom ...   \n4        US  Much like the regular bottling from 2012, this...   \n\n                          designation  points  price           province  \\\n0                        Vulkà Bianco      87    NaN  Sicily & Sardinia   \n1                            Avidagos      87   15.0              Douro   \n2                                 NaN      87   14.0             Oregon   \n3                Reserve Late Harvest      87   13.0           Michigan   \n4  Vintner's Reserve Wild Child Block      87   65.0             Oregon   \n\n              region_1           region_2         taster_name  \\\n0                 Etna                NaN       Kerin O’Keefe   \n1                  NaN                NaN          Roger Voss   \n2    Willamette Valley  Willamette Valley        Paul Gregutt   \n3  Lake Michigan Shore                NaN  Alexander Peartree   \n4    Willamette Valley  Willamette Valley        Paul Gregutt   \n\n  taster_twitter_handle                                              title  \\\n0          @kerinokeefe                  Nicosia 2013 Vulkà Bianco  (Etna)   \n1            @vossroger      Quinta dos Avidagos 2011 Avidagos Red (Douro)   \n2           @paulgwine       Rainstorm 2013 Pinot Gris (Willamette Valley)   \n3                   NaN  St. Julian 2013 Reserve Late Harvest Riesling ...   \n4           @paulgwine   Sweet Cheeks 2012 Vintner's Reserve Wild Child...   \n\n          variety               winery  \n0     White Blend              Nicosia  \n1  Portuguese Red  Quinta dos Avidagos  \n2      Pinot Gris            Rainstorm  \n3        Riesling           St. Julian  \n4      Pinot Noir         Sweet Cheeks  ",
            "text/html": "<div>\n<style scoped>\n    .dataframe tbody tr th:only-of-type {\n        vertical-align: middle;\n    }\n\n    .dataframe tbody tr th {\n        vertical-align: top;\n    }\n\n    .dataframe thead th {\n        text-align: right;\n    }\n</style>\n<table border=\"1\" class=\"dataframe\">\n  <thead>\n    <tr style=\"text-align: right;\">\n      <th></th>\n      <th>country</th>\n      <th>description</th>\n      <th>designation</th>\n      <th>points</th>\n      <th>price</th>\n      <th>province</th>\n      <th>region_1</th>\n      <th>region_2</th>\n      <th>taster_name</th>\n      <th>taster_twitter_handle</th>\n      <th>title</th>\n      <th>variety</th>\n      <th>winery</th>\n    </tr>\n  </thead>\n  <tbody>\n    <tr>\n      <th>0</th>\n      <td>Italy</td>\n      <td>Aromas include tropical fruit, broom, brimston...</td>\n      <td>Vulkà Bianco</td>\n      <td>87</td>\n      <td>NaN</td>\n      <td>Sicily &amp; Sardinia</td>\n      <td>Etna</td>\n      <td>NaN</td>\n      <td>Kerin O’Keefe</td>\n      <td>@kerinokeefe</td>\n      <td>Nicosia 2013 Vulkà Bianco  (Etna)</td>\n      <td>White Blend</td>\n      <td>Nicosia</td>\n    </tr>\n    <tr>\n      <th>1</th>\n      <td>Portugal</td>\n      <td>This is ripe and fruity, a wine that is smooth...</td>\n      <td>Avidagos</td>\n      <td>87</td>\n      <td>15.0</td>\n      <td>Douro</td>\n      <td>NaN</td>\n      <td>NaN</td>\n      <td>Roger Voss</td>\n      <td>@vossroger</td>\n      <td>Quinta dos Avidagos 2011 Avidagos Red (Douro)</td>\n      <td>Portuguese Red</td>\n      <td>Quinta dos Avidagos</td>\n    </tr>\n    <tr>\n      <th>2</th>\n      <td>US</td>\n      <td>Tart and snappy, the flavors of lime flesh and...</td>\n      <td>NaN</td>\n      <td>87</td>\n      <td>14.0</td>\n      <td>Oregon</td>\n      <td>Willamette Valley</td>\n      <td>Willamette Valley</td>\n      <td>Paul Gregutt</td>\n      <td>@paulgwine</td>\n      <td>Rainstorm 2013 Pinot Gris (Willamette Valley)</td>\n      <td>Pinot Gris</td>\n      <td>Rainstorm</td>\n    </tr>\n    <tr>\n      <th>3</th>\n      <td>US</td>\n      <td>Pineapple rind, lemon pith and orange blossom ...</td>\n      <td>Reserve Late Harvest</td>\n      <td>87</td>\n      <td>13.0</td>\n      <td>Michigan</td>\n      <td>Lake Michigan Shore</td>\n      <td>NaN</td>\n      <td>Alexander Peartree</td>\n      <td>NaN</td>\n      <td>St. Julian 2013 Reserve Late Harvest Riesling ...</td>\n      <td>Riesling</td>\n      <td>St. Julian</td>\n    </tr>\n    <tr>\n      <th>4</th>\n      <td>US</td>\n      <td>Much like the regular bottling from 2012, this...</td>\n      <td>Vintner's Reserve Wild Child Block</td>\n      <td>87</td>\n      <td>65.0</td>\n      <td>Oregon</td>\n      <td>Willamette Valley</td>\n      <td>Willamette Valley</td>\n      <td>Paul Gregutt</td>\n      <td>@paulgwine</td>\n      <td>Sweet Cheeks 2012 Vintner's Reserve Wild Child...</td>\n      <td>Pinot Noir</td>\n      <td>Sweet Cheeks</td>\n    </tr>\n  </tbody>\n</table>\n</div>"
          },
          "metadata": {}
        }
      ],
      "execution_count": null
    },
    {
      "cell_type": "code",
      "source": [
        "q1.hint()\n",
        "q1.solution()"
      ],
      "metadata": {
        "trusted": true,
        "execution": {
          "iopub.status.busy": "2024-12-03T14:46:58.176895Z",
          "iopub.execute_input": "2024-12-03T14:46:58.177207Z",
          "iopub.status.idle": "2024-12-03T14:46:58.189326Z",
          "shell.execute_reply.started": "2024-12-03T14:46:58.177176Z",
          "shell.execute_reply": "2024-12-03T14:46:58.1884Z"
        },
        "id": "2-G0AS6KBZY9",
        "outputId": "3c159cdd-c780-42da-cde0-ce2edb4ac9eb"
      },
      "outputs": [
        {
          "output_type": "display_data",
          "data": {
            "text/plain": "<IPython.core.display.Javascript object>",
            "application/javascript": "parent.postMessage({\"jupyterEvent\": \"custom.exercise_interaction\", \"data\": {\"interactionType\": 2, \"questionType\": 1, \"questionId\": \"1_ReviewsWritten\", \"learnToolsVersion\": \"0.3.4\", \"valueTowardsCompletion\": 0.0, \"failureMessage\": \"\", \"exceptionClass\": \"\", \"trace\": \"\", \"outcomeType\": 4}}, \"*\")"
          },
          "metadata": {}
        },
        {
          "output_type": "display_data",
          "data": {
            "text/plain": "Hint: Use the `groupby` operation and `size()` (or `count()`).",
            "text/markdown": "<span style=\"color:#3366cc\">Hint:</span> Use the `groupby` operation and `size()` (or `count()`)."
          },
          "metadata": {}
        },
        {
          "output_type": "display_data",
          "data": {
            "text/plain": "<IPython.core.display.Javascript object>",
            "application/javascript": "parent.postMessage({\"jupyterEvent\": \"custom.exercise_interaction\", \"data\": {\"interactionType\": 3, \"questionType\": 1, \"questionId\": \"1_ReviewsWritten\", \"learnToolsVersion\": \"0.3.4\", \"valueTowardsCompletion\": 0.0, \"failureMessage\": \"\", \"exceptionClass\": \"\", \"trace\": \"\", \"outcomeType\": 4}}, \"*\")"
          },
          "metadata": {}
        },
        {
          "output_type": "display_data",
          "data": {
            "text/plain": "Solution: \n```python\nreviews_written = reviews.groupby('taster_twitter_handle').size()\n```\nor\n```python\nreviews_written = reviews.groupby('taster_twitter_handle').taster_twitter_handle.count()\n```",
            "text/markdown": "<span style=\"color:#33cc99\">Solution:</span> \n```python\nreviews_written = reviews.groupby('taster_twitter_handle').size()\n```\nor\n```python\nreviews_written = reviews.groupby('taster_twitter_handle').taster_twitter_handle.count()\n```\n"
          },
          "metadata": {}
        }
      ],
      "execution_count": null
    },
    {
      "cell_type": "markdown",
      "source": [
        "## 2.\n",
        "What is the best wine I can buy for a given amount of money? Create a `Series` whose index is wine prices and whose values is the maximum number of points a wine costing that much was given in a review. Sort the values by price, ascending (so that `4.0` dollars is at the top and `3300.0` dollars is at the bottom)."
      ],
      "metadata": {
        "id": "mn2y-8K_BZY9"
      }
    },
    {
      "cell_type": "code",
      "source": [
        "best_rating_per_price = pd.Series(reviews.groupby(\"price\")[\"points\"].max())\n",
        "\n",
        "# Check your answer\n",
        "q2.check()\n",
        "best_rating_per_price\n",
        "# best_rating_per_price.size\n",
        "# reviews.price.unique().size"
      ],
      "metadata": {
        "trusted": true,
        "execution": {
          "iopub.status.busy": "2024-12-03T14:46:58.191776Z",
          "iopub.execute_input": "2024-12-03T14:46:58.192186Z",
          "iopub.status.idle": "2024-12-03T14:46:58.212866Z",
          "shell.execute_reply.started": "2024-12-03T14:46:58.192148Z",
          "shell.execute_reply": "2024-12-03T14:46:58.211858Z"
        },
        "id": "27uoPmv1BZY9",
        "outputId": "3d2fc3cb-a7e1-4b60-848c-3454e0787db0"
      },
      "outputs": [
        {
          "output_type": "display_data",
          "data": {
            "text/plain": "<IPython.core.display.Javascript object>",
            "application/javascript": "parent.postMessage({\"jupyterEvent\": \"custom.exercise_interaction\", \"data\": {\"outcomeType\": 1, \"valueTowardsCompletion\": 0.16666666666666666, \"interactionType\": 1, \"questionType\": 1, \"questionId\": \"2_BestRatingPerPrice\", \"learnToolsVersion\": \"0.3.4\", \"failureMessage\": \"\", \"exceptionClass\": \"\", \"trace\": \"\"}}, \"*\")"
          },
          "metadata": {}
        },
        {
          "output_type": "display_data",
          "data": {
            "text/plain": "Correct",
            "text/markdown": "<span style=\"color:#33cc33\">Correct</span>"
          },
          "metadata": {}
        },
        {
          "execution_count": 5,
          "output_type": "execute_result",
          "data": {
            "text/plain": "price\n4.0       86\n5.0       87\n6.0       88\n7.0       91\n8.0       91\n          ..\n1900.0    98\n2000.0    97\n2013.0    91\n2500.0    96\n3300.0    88\nName: points, Length: 390, dtype: int64"
          },
          "metadata": {}
        }
      ],
      "execution_count": null
    },
    {
      "cell_type": "code",
      "source": [
        "q2.hint()\n",
        "q2.solution()"
      ],
      "metadata": {
        "trusted": true,
        "execution": {
          "iopub.status.busy": "2024-12-03T14:46:58.214163Z",
          "iopub.execute_input": "2024-12-03T14:46:58.214458Z",
          "iopub.status.idle": "2024-12-03T14:46:58.226271Z",
          "shell.execute_reply.started": "2024-12-03T14:46:58.214428Z",
          "shell.execute_reply": "2024-12-03T14:46:58.225214Z"
        },
        "id": "lyv7nfENBZY-",
        "outputId": "ff0f7504-5599-4b44-82e9-b685d4bb9333"
      },
      "outputs": [
        {
          "output_type": "display_data",
          "data": {
            "text/plain": "<IPython.core.display.Javascript object>",
            "application/javascript": "parent.postMessage({\"jupyterEvent\": \"custom.exercise_interaction\", \"data\": {\"interactionType\": 2, \"questionType\": 1, \"questionId\": \"2_BestRatingPerPrice\", \"learnToolsVersion\": \"0.3.4\", \"valueTowardsCompletion\": 0.0, \"failureMessage\": \"\", \"exceptionClass\": \"\", \"trace\": \"\", \"outcomeType\": 4}}, \"*\")"
          },
          "metadata": {}
        },
        {
          "output_type": "display_data",
          "data": {
            "text/plain": "Hint: Use `max()` and `sort_index()`.  The relevant columns in the DataFrame are `price` and `points`.",
            "text/markdown": "<span style=\"color:#3366cc\">Hint:</span> Use `max()` and `sort_index()`.  The relevant columns in the DataFrame are `price` and `points`."
          },
          "metadata": {}
        },
        {
          "output_type": "display_data",
          "data": {
            "text/plain": "<IPython.core.display.Javascript object>",
            "application/javascript": "parent.postMessage({\"jupyterEvent\": \"custom.exercise_interaction\", \"data\": {\"interactionType\": 3, \"questionType\": 1, \"questionId\": \"2_BestRatingPerPrice\", \"learnToolsVersion\": \"0.3.4\", \"valueTowardsCompletion\": 0.0, \"failureMessage\": \"\", \"exceptionClass\": \"\", \"trace\": \"\", \"outcomeType\": 4}}, \"*\")"
          },
          "metadata": {}
        },
        {
          "output_type": "display_data",
          "data": {
            "text/plain": "Solution: \n```python\nbest_rating_per_price = reviews.groupby('price')['points'].max().sort_index()\n```",
            "text/markdown": "<span style=\"color:#33cc99\">Solution:</span> \n```python\nbest_rating_per_price = reviews.groupby('price')['points'].max().sort_index()\n```"
          },
          "metadata": {}
        }
      ],
      "execution_count": null
    },
    {
      "cell_type": "markdown",
      "source": [
        "## 3.\n",
        "What are the minimum and maximum prices for each `variety` of wine? Create a `DataFrame` whose index is the `variety` category from the dataset and whose values are the `min` and `max` values thereof."
      ],
      "metadata": {
        "id": "sI0rBz-_BZY-"
      }
    },
    {
      "cell_type": "code",
      "source": [
        "# mins = pd.Series(reviews.groupby(\"variety\").price.min())\n",
        "# maxs = pd.Series(reviews.groupby(\"variety\").price.max())\n",
        "price_extremes = reviews.groupby(\"variety\").price.agg([min, max])\n",
        "\n",
        "\n",
        "# Check your answer\n",
        "q3.check()\n",
        "print(price_extremes)\n",
        "# print(reviews.variety.unique().size)"
      ],
      "metadata": {
        "trusted": true,
        "execution": {
          "iopub.status.busy": "2024-12-03T14:46:58.227614Z",
          "iopub.execute_input": "2024-12-03T14:46:58.227981Z",
          "iopub.status.idle": "2024-12-03T14:46:58.258438Z",
          "shell.execute_reply.started": "2024-12-03T14:46:58.227949Z",
          "shell.execute_reply": "2024-12-03T14:46:58.257402Z"
        },
        "id": "1jEOViFHBZY-",
        "outputId": "954c0e5b-4b98-422a-976d-68354863b3b8"
      },
      "outputs": [
        {
          "name": "stderr",
          "text": "/tmp/ipykernel_24/331947563.py:3: FutureWarning: The provided callable <built-in function min> is currently using SeriesGroupBy.min. In a future version of pandas, the provided callable will be used directly. To keep current behavior pass the string \"min\" instead.\n  price_extremes = reviews.groupby(\"variety\").price.agg([min, max])\n/tmp/ipykernel_24/331947563.py:3: FutureWarning: The provided callable <built-in function max> is currently using SeriesGroupBy.max. In a future version of pandas, the provided callable will be used directly. To keep current behavior pass the string \"max\" instead.\n  price_extremes = reviews.groupby(\"variety\").price.agg([min, max])\n",
          "output_type": "stream"
        },
        {
          "output_type": "display_data",
          "data": {
            "text/plain": "<IPython.core.display.Javascript object>",
            "application/javascript": "parent.postMessage({\"jupyterEvent\": \"custom.exercise_interaction\", \"data\": {\"outcomeType\": 1, \"valueTowardsCompletion\": 0.16666666666666666, \"interactionType\": 1, \"questionType\": 1, \"questionId\": \"3_PriceExtremes\", \"learnToolsVersion\": \"0.3.4\", \"failureMessage\": \"\", \"exceptionClass\": \"\", \"trace\": \"\"}}, \"*\")"
          },
          "metadata": {}
        },
        {
          "output_type": "display_data",
          "data": {
            "text/plain": "Correct",
            "text/markdown": "<span style=\"color:#33cc33\">Correct</span>"
          },
          "metadata": {}
        },
        {
          "name": "stdout",
          "text": "              min    max\nvariety                 \nAbouriou     15.0   75.0\nAgiorgitiko  10.0   66.0\nAglianico     6.0  180.0\nAidani       27.0   27.0\nAiren         8.0   10.0\n...           ...    ...\nZinfandel     5.0  100.0\nZlahtina     13.0   16.0\nZweigelt      9.0   70.0\nÇalkarası    19.0   19.0\nŽilavka      15.0   15.0\n\n[707 rows x 2 columns]\n",
          "output_type": "stream"
        }
      ],
      "execution_count": null
    },
    {
      "cell_type": "code",
      "source": [
        "q3.hint()\n",
        "q3.solution()"
      ],
      "metadata": {
        "trusted": true,
        "execution": {
          "iopub.status.busy": "2024-12-03T14:46:58.259881Z",
          "iopub.execute_input": "2024-12-03T14:46:58.260879Z",
          "iopub.status.idle": "2024-12-03T14:46:58.272914Z",
          "shell.execute_reply.started": "2024-12-03T14:46:58.260813Z",
          "shell.execute_reply": "2024-12-03T14:46:58.271624Z"
        },
        "id": "I79zpdwEBZY-",
        "outputId": "ac918872-98b9-4781-d81a-e62ea796034e"
      },
      "outputs": [
        {
          "output_type": "display_data",
          "data": {
            "text/plain": "<IPython.core.display.Javascript object>",
            "application/javascript": "parent.postMessage({\"jupyterEvent\": \"custom.exercise_interaction\", \"data\": {\"interactionType\": 2, \"questionType\": 1, \"questionId\": \"3_PriceExtremes\", \"learnToolsVersion\": \"0.3.4\", \"valueTowardsCompletion\": 0.0, \"failureMessage\": \"\", \"exceptionClass\": \"\", \"trace\": \"\", \"outcomeType\": 4}}, \"*\")"
          },
          "metadata": {}
        },
        {
          "output_type": "display_data",
          "data": {
            "text/plain": "Hint: Use `agg()`.",
            "text/markdown": "<span style=\"color:#3366cc\">Hint:</span> Use `agg()`."
          },
          "metadata": {}
        },
        {
          "output_type": "display_data",
          "data": {
            "text/plain": "<IPython.core.display.Javascript object>",
            "application/javascript": "parent.postMessage({\"jupyterEvent\": \"custom.exercise_interaction\", \"data\": {\"interactionType\": 3, \"questionType\": 1, \"questionId\": \"3_PriceExtremes\", \"learnToolsVersion\": \"0.3.4\", \"valueTowardsCompletion\": 0.0, \"failureMessage\": \"\", \"exceptionClass\": \"\", \"trace\": \"\", \"outcomeType\": 4}}, \"*\")"
          },
          "metadata": {}
        },
        {
          "output_type": "display_data",
          "data": {
            "text/plain": "Solution: \n```python\nprice_extremes = reviews.groupby('variety').price.agg([min, max])\n```",
            "text/markdown": "<span style=\"color:#33cc99\">Solution:</span> \n```python\nprice_extremes = reviews.groupby('variety').price.agg([min, max])\n```"
          },
          "metadata": {}
        }
      ],
      "execution_count": null
    },
    {
      "cell_type": "markdown",
      "source": [
        "## 4.\n",
        "What are the most expensive wine varieties? Create a variable `sorted_varieties` containing a copy of the dataframe from the previous question where varieties are sorted in descending order based on minimum price, then on maximum price (to break ties)."
      ],
      "metadata": {
        "id": "9sxF9zgXBZY-"
      }
    },
    {
      "cell_type": "code",
      "source": [
        "sorted_varieties = price_extremes.sort_values(by=[\"min\",\"max\"], ascending=False)\n",
        "\n",
        "# Check your answer\n",
        "q4.check()\n",
        "print(sorted_varieties.head(30))\n",
        "# print(price_extremes.columns)"
      ],
      "metadata": {
        "trusted": true,
        "execution": {
          "iopub.status.busy": "2024-12-03T14:46:58.274121Z",
          "iopub.execute_input": "2024-12-03T14:46:58.274437Z",
          "iopub.status.idle": "2024-12-03T14:46:58.292198Z",
          "shell.execute_reply.started": "2024-12-03T14:46:58.274406Z",
          "shell.execute_reply": "2024-12-03T14:46:58.291161Z"
        },
        "id": "uOuCALZMBZY-",
        "outputId": "21e379a7-751a-4c2b-bb69-4359c9039add"
      },
      "outputs": [
        {
          "output_type": "display_data",
          "data": {
            "text/plain": "<IPython.core.display.Javascript object>",
            "application/javascript": "parent.postMessage({\"jupyterEvent\": \"custom.exercise_interaction\", \"data\": {\"outcomeType\": 1, \"valueTowardsCompletion\": 0.16666666666666666, \"interactionType\": 1, \"questionType\": 1, \"questionId\": \"4_SortedVarieties\", \"learnToolsVersion\": \"0.3.4\", \"failureMessage\": \"\", \"exceptionClass\": \"\", \"trace\": \"\"}}, \"*\")"
          },
          "metadata": {}
        },
        {
          "output_type": "display_data",
          "data": {
            "text/plain": "Correct",
            "text/markdown": "<span style=\"color:#33cc33\">Correct</span>"
          },
          "metadata": {}
        },
        {
          "name": "stdout",
          "text": "                              min    max\nvariety                                 \nRamisco                     495.0  495.0\nTerrantez                   236.0  236.0\nFrancisa                    160.0  160.0\nRosenmuskateller            150.0  150.0\nTinta Negra Mole            112.0  112.0\nPignolo                      70.0   70.0\nSyrah-Cabernet Franc         60.0   69.0\nGarnacha-Cariñena            57.0   57.0\nDoña Blanca                  53.0   53.0\nCercial                      50.0   50.0\nMavrotragano                 50.0   50.0\nSercial                      50.0   50.0\nPugnitello                   49.0   49.0\nMalbec-Cabernet              45.0  165.0\nTinta del Pais               45.0   50.0\nTouriga                      45.0   46.0\nBabosa Negro                 45.0   45.0\nCabernet Sauvignon-Barbera   45.0   45.0\nSyrah-Grenache-Viognier      45.0   45.0\nTinta Madeira                45.0   45.0\nVermentino Nero              45.0   45.0\nMalbec-Carménère             43.0   43.0\nMadeira Blend                42.0   49.0\nAlbarossa                    40.0   40.0\nColorino                     40.0   40.0\nFavorita                     40.0   40.0\nFrüburgunder                 40.0   40.0\nMoscato di Noto              40.0   40.0\nRiesling-Chardonnay          40.0   40.0\nRyzlink Rýnský               40.0   40.0\n",
          "output_type": "stream"
        }
      ],
      "execution_count": null
    },
    {
      "cell_type": "code",
      "source": [
        "q4.hint()\n",
        "q4.solution()"
      ],
      "metadata": {
        "trusted": true,
        "execution": {
          "iopub.status.busy": "2024-12-03T14:46:58.293503Z",
          "iopub.execute_input": "2024-12-03T14:46:58.293856Z",
          "iopub.status.idle": "2024-12-03T14:46:58.305855Z",
          "shell.execute_reply.started": "2024-12-03T14:46:58.293824Z",
          "shell.execute_reply": "2024-12-03T14:46:58.304558Z"
        },
        "id": "bGqdy-lYBZY_",
        "outputId": "87f901d6-5bdc-41e7-842d-18c1c0d5c1d1"
      },
      "outputs": [
        {
          "output_type": "display_data",
          "data": {
            "text/plain": "<IPython.core.display.Javascript object>",
            "application/javascript": "parent.postMessage({\"jupyterEvent\": \"custom.exercise_interaction\", \"data\": {\"interactionType\": 2, \"questionType\": 1, \"questionId\": \"4_SortedVarieties\", \"learnToolsVersion\": \"0.3.4\", \"valueTowardsCompletion\": 0.0, \"failureMessage\": \"\", \"exceptionClass\": \"\", \"trace\": \"\", \"outcomeType\": 4}}, \"*\")"
          },
          "metadata": {}
        },
        {
          "output_type": "display_data",
          "data": {
            "text/plain": "Hint: Use `sort_values()`, and provide a list of names to sort by.",
            "text/markdown": "<span style=\"color:#3366cc\">Hint:</span> Use `sort_values()`, and provide a list of names to sort by."
          },
          "metadata": {}
        },
        {
          "output_type": "display_data",
          "data": {
            "text/plain": "<IPython.core.display.Javascript object>",
            "application/javascript": "parent.postMessage({\"jupyterEvent\": \"custom.exercise_interaction\", \"data\": {\"interactionType\": 3, \"questionType\": 1, \"questionId\": \"4_SortedVarieties\", \"learnToolsVersion\": \"0.3.4\", \"valueTowardsCompletion\": 0.0, \"failureMessage\": \"\", \"exceptionClass\": \"\", \"trace\": \"\", \"outcomeType\": 4}}, \"*\")"
          },
          "metadata": {}
        },
        {
          "output_type": "display_data",
          "data": {
            "text/plain": "Solution: \n```python\nsorted_varieties = price_extremes.sort_values(by=['min', 'max'], ascending=False)\n```",
            "text/markdown": "<span style=\"color:#33cc99\">Solution:</span> \n```python\nsorted_varieties = price_extremes.sort_values(by=['min', 'max'], ascending=False)\n```"
          },
          "metadata": {}
        }
      ],
      "execution_count": null
    },
    {
      "cell_type": "markdown",
      "source": [
        "## 5.\n",
        "Create a `Series` whose index is reviewers and whose values is the average review score given out by that reviewer. Hint: you will need the `taster_name` and `points` columns."
      ],
      "metadata": {
        "id": "sYICTYmrBZY_"
      }
    },
    {
      "cell_type": "code",
      "source": [
        "reviewer_mean_ratings = pd.Series(reviews.groupby(\"taster_name\").points.mean())\n",
        "\n",
        "# Check your answer\n",
        "q5.check()\n",
        "print(reviewer_mean_ratings)"
      ],
      "metadata": {
        "trusted": true,
        "execution": {
          "iopub.status.busy": "2024-12-03T14:46:58.308285Z",
          "iopub.execute_input": "2024-12-03T14:46:58.308602Z",
          "iopub.status.idle": "2024-12-03T14:46:58.331747Z",
          "shell.execute_reply.started": "2024-12-03T14:46:58.308569Z",
          "shell.execute_reply": "2024-12-03T14:46:58.330679Z"
        },
        "id": "gG1chtFvBZY_",
        "outputId": "e963e098-1e0d-4ec7-f564-21b1307f60e0"
      },
      "outputs": [
        {
          "output_type": "display_data",
          "data": {
            "text/plain": "<IPython.core.display.Javascript object>",
            "application/javascript": "parent.postMessage({\"jupyterEvent\": \"custom.exercise_interaction\", \"data\": {\"outcomeType\": 1, \"valueTowardsCompletion\": 0.16666666666666666, \"interactionType\": 1, \"questionType\": 1, \"questionId\": \"5_ReviewerMeanRatings\", \"learnToolsVersion\": \"0.3.4\", \"failureMessage\": \"\", \"exceptionClass\": \"\", \"trace\": \"\"}}, \"*\")"
          },
          "metadata": {}
        },
        {
          "output_type": "display_data",
          "data": {
            "text/plain": "Correct",
            "text/markdown": "<span style=\"color:#33cc33\">Correct</span>"
          },
          "metadata": {}
        },
        {
          "name": "stdout",
          "text": "taster_name\nAlexander Peartree    85.855422\nAnna Lee C. Iijima    88.415629\nAnne Krebiehl MW      90.562551\nCarrie Dykes          86.395683\nChristina Pickard     87.833333\nFiona Adams           86.888889\nJeff Jenssen          88.319756\nJim Gordon            88.626287\nJoe Czerwinski        88.536235\nKerin O’Keefe         88.867947\nLauren Buzzeo         87.739510\nMatt Kettmann         90.008686\nMichael Schachner     86.907493\nMike DeSimone         89.101167\nPaul Gregutt          89.082564\nRoger Voss            88.708003\nSean P. Sullivan      88.755739\nSusan Kostrzewa       86.609217\nVirginie Boone        89.213379\nName: points, dtype: float64\n",
          "output_type": "stream"
        }
      ],
      "execution_count": null
    },
    {
      "cell_type": "code",
      "source": [
        "q5.hint()\n",
        "q5.solution()"
      ],
      "metadata": {
        "trusted": true,
        "execution": {
          "iopub.status.busy": "2024-12-03T14:46:58.333239Z",
          "iopub.execute_input": "2024-12-03T14:46:58.333951Z",
          "iopub.status.idle": "2024-12-03T14:46:58.345809Z",
          "shell.execute_reply.started": "2024-12-03T14:46:58.333915Z",
          "shell.execute_reply": "2024-12-03T14:46:58.344567Z"
        },
        "id": "CewNSi1PBZY_",
        "outputId": "6124dcf3-04ec-46ca-99db-25f68e8b2619"
      },
      "outputs": [
        {
          "output_type": "display_data",
          "data": {
            "text/plain": "<IPython.core.display.Javascript object>",
            "application/javascript": "parent.postMessage({\"jupyterEvent\": \"custom.exercise_interaction\", \"data\": {\"interactionType\": 2, \"questionType\": 1, \"questionId\": \"5_ReviewerMeanRatings\", \"learnToolsVersion\": \"0.3.4\", \"valueTowardsCompletion\": 0.0, \"failureMessage\": \"\", \"exceptionClass\": \"\", \"trace\": \"\", \"outcomeType\": 4}}, \"*\")"
          },
          "metadata": {}
        },
        {
          "output_type": "display_data",
          "data": {
            "text/plain": "Hint: Use `mean()`.",
            "text/markdown": "<span style=\"color:#3366cc\">Hint:</span> Use `mean()`."
          },
          "metadata": {}
        },
        {
          "output_type": "display_data",
          "data": {
            "text/plain": "<IPython.core.display.Javascript object>",
            "application/javascript": "parent.postMessage({\"jupyterEvent\": \"custom.exercise_interaction\", \"data\": {\"interactionType\": 3, \"questionType\": 1, \"questionId\": \"5_ReviewerMeanRatings\", \"learnToolsVersion\": \"0.3.4\", \"valueTowardsCompletion\": 0.0, \"failureMessage\": \"\", \"exceptionClass\": \"\", \"trace\": \"\", \"outcomeType\": 4}}, \"*\")"
          },
          "metadata": {}
        },
        {
          "output_type": "display_data",
          "data": {
            "text/plain": "Solution: \n```python\nreviewer_mean_ratings = reviews.groupby('taster_name').points.mean()\n```",
            "text/markdown": "<span style=\"color:#33cc99\">Solution:</span> \n```python\nreviewer_mean_ratings = reviews.groupby('taster_name').points.mean()\n```"
          },
          "metadata": {}
        }
      ],
      "execution_count": null
    },
    {
      "cell_type": "markdown",
      "source": [
        "Are there significant differences in the average scores assigned by the various reviewers? Run the cell below to use the `describe()` method to see a summary of the range of values."
      ],
      "metadata": {
        "id": "QjIAHlziBZY_"
      }
    },
    {
      "cell_type": "code",
      "source": [
        "reviewer_mean_ratings.describe()"
      ],
      "metadata": {
        "trusted": true,
        "execution": {
          "iopub.status.busy": "2024-12-03T14:46:58.347038Z",
          "iopub.execute_input": "2024-12-03T14:46:58.347321Z",
          "iopub.status.idle": "2024-12-03T14:46:58.357371Z",
          "shell.execute_reply.started": "2024-12-03T14:46:58.347293Z",
          "shell.execute_reply": "2024-12-03T14:46:58.356315Z"
        },
        "id": "zHAEBei7BZY_",
        "outputId": "c872bd9c-7b84-4fd0-820a-bdc8a3c55bc9"
      },
      "outputs": [
        {
          "execution_count": 13,
          "output_type": "execute_result",
          "data": {
            "text/plain": "count    19.000000\nmean     88.233026\nstd       1.243610\nmin      85.855422\n25%      87.323501\n50%      88.536235\n75%      88.975256\nmax      90.562551\nName: points, dtype: float64"
          },
          "metadata": {}
        }
      ],
      "execution_count": null
    },
    {
      "cell_type": "markdown",
      "source": [
        "## 6.\n",
        "What combination of countries and varieties are most common? Create a `Series` whose index is a `MultiIndex`of `{country, variety}` pairs. For example, a pinot noir produced in the US should map to `{\"US\", \"Pinot Noir\"}`. Sort the values in the `Series` in descending order based on wine count."
      ],
      "metadata": {
        "id": "Q3TiGeXwBZY_"
      }
    },
    {
      "cell_type": "code",
      "source": [
        "countries = reviews.country\n",
        "# MLA\n",
        "# country_variety_counts = pd.MultiIndex.from_frame(reviews[[\"country\",\"variety\"]]).unique().sort_values(ascending=True)\n",
        "country_variety_counts = reviews.groupby(['country', 'variety']).size().sort_values(ascending=False)\n",
        "\n",
        "# Check your answer\n",
        "q6.check()\n",
        "print(country_variety_counts)"
      ],
      "metadata": {
        "trusted": true,
        "execution": {
          "iopub.status.busy": "2024-12-03T14:55:18.300409Z",
          "iopub.execute_input": "2024-12-03T14:55:18.300856Z",
          "iopub.status.idle": "2024-12-03T14:55:18.341098Z",
          "shell.execute_reply.started": "2024-12-03T14:55:18.300819Z",
          "shell.execute_reply": "2024-12-03T14:55:18.340074Z"
        },
        "id": "Dq05mrDgBZY_",
        "outputId": "2d0fdac3-a8d1-4a1e-d38d-4dbd2591829b"
      },
      "outputs": [
        {
          "output_type": "display_data",
          "data": {
            "text/plain": "<IPython.core.display.Javascript object>",
            "application/javascript": "parent.postMessage({\"jupyterEvent\": \"custom.exercise_interaction\", \"data\": {\"outcomeType\": 1, \"valueTowardsCompletion\": 0.16666666666666666, \"interactionType\": 1, \"questionType\": 1, \"questionId\": \"6_GroupbyCountryVariety\", \"learnToolsVersion\": \"0.3.4\", \"failureMessage\": \"\", \"exceptionClass\": \"\", \"trace\": \"\"}}, \"*\")"
          },
          "metadata": {}
        },
        {
          "output_type": "display_data",
          "data": {
            "text/plain": "Correct",
            "text/markdown": "<span style=\"color:#33cc33\">Correct</span>"
          },
          "metadata": {}
        },
        {
          "name": "stdout",
          "text": "country  variety                 \nUS       Pinot Noir                  9885\n         Cabernet Sauvignon          7315\n         Chardonnay                  6801\nFrance   Bordeaux-style Red Blend    4725\nItaly    Red Blend                   3624\n                                     ... \nMexico   Cinsault                       1\n         Grenache                       1\n         Merlot                         1\n         Rosado                         1\nUruguay  White Blend                    1\nLength: 1612, dtype: int64\n",
          "output_type": "stream"
        }
      ],
      "execution_count": null
    },
    {
      "cell_type": "code",
      "source": [
        "q6.hint()\n",
        "q6.solution()"
      ],
      "metadata": {
        "trusted": true,
        "id": "T8fdBmngBZY_",
        "outputId": "7032528a-7935-40e3-e2fb-17194106ebd6"
      },
      "outputs": [
        {
          "output_type": "display_data",
          "data": {
            "text/plain": "<IPython.core.display.Javascript object>",
            "application/javascript": "parent.postMessage({\"jupyterEvent\": \"custom.exercise_interaction\", \"data\": {\"interactionType\": 3, \"questionType\": 1, \"questionId\": \"6_GroupbyCountryVariety\", \"learnToolsVersion\": \"0.3.4\", \"valueTowardsCompletion\": 0.0, \"failureMessage\": \"\", \"exceptionClass\": \"\", \"trace\": \"\", \"outcomeType\": 4}}, \"*\")"
          },
          "metadata": {}
        },
        {
          "output_type": "display_data",
          "data": {
            "text/plain": "Solution: \n```python\ncountry_variety_counts = reviews.groupby(['country', 'variety']).size().sort_values(ascending=False)\n```",
            "text/markdown": "<span style=\"color:#33cc99\">Solution:</span> \n```python\ncountry_variety_counts = reviews.groupby(['country', 'variety']).size().sort_values(ascending=False)\n```"
          },
          "metadata": {}
        }
      ],
      "execution_count": null
    },
    {
      "cell_type": "markdown",
      "source": [
        "# Keep going\n",
        "\n",
        "Move on to the [**data types and missing data**](https://www.kaggle.com/residentmario/data-types-and-missing-values)."
      ],
      "metadata": {
        "id": "upg_Q2A1BZZA"
      }
    },
    {
      "cell_type": "markdown",
      "source": [
        "---\n",
        "\n",
        "\n",
        "\n",
        "\n",
        "*Have questions or comments? Visit the [course discussion forum](https://www.kaggle.com/learn/pandas/discussion) to chat with other learners.*"
      ],
      "metadata": {
        "id": "rtaNq1BMBZZA"
      }
    }
  ]
}
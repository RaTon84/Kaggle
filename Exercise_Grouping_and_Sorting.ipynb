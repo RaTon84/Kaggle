{
  "metadata": {
    "kernelspec": {
      "display_name": "Python 3",
      "language": "python",
      "name": "python3"
    },
    "language_info": {
      "name": "python",
      "version": "3.10.14",
      "mimetype": "text/x-python",
      "codemirror_mode": {
        "name": "ipython",
        "version": 3
      },
      "pygments_lexer": "ipython3",
      "nbconvert_exporter": "python",
      "file_extension": ".py"
    },
    "kaggle": {
      "accelerator": "none",
      "dataSources": [
        {
          "sourceId": 1252,
          "sourceType": "datasetVersion",
          "datasetId": 655
        },
        {
          "sourceId": 3919,
          "sourceType": "datasetVersion",
          "datasetId": 2321
        },
        {
          "sourceId": 4877,
          "sourceType": "datasetVersion",
          "datasetId": 2894
        },
        {
          "sourceId": 5624,
          "sourceType": "datasetVersion",
          "datasetId": 3491
        },
        {
          "sourceId": 8172,
          "sourceType": "datasetVersion",
          "datasetId": 1442
        },
        {
          "sourceId": 13206,
          "sourceType": "datasetVersion",
          "datasetId": 9366
        },
        {
          "sourceId": 403916,
          "sourceType": "datasetVersion",
          "datasetId": 179555
        },
        {
          "sourceId": 466349,
          "sourceType": "datasetVersion",
          "datasetId": 4549
        },
        {
          "sourceId": 1151655,
          "sourceType": "datasetVersion",
          "datasetId": 2478
        },
        {
          "sourceId": 5438389,
          "sourceType": "datasetVersion",
          "datasetId": 10128
        }
      ],
      "isInternetEnabled": false,
      "language": "python",
      "sourceType": "notebook",
      "isGpuEnabled": false
    },
    "colab": {
      "name": "Exercise: Grouping and Sorting",
      "provenance": [],
      "include_colab_link": true
    }
  },
  "nbformat_minor": 0,
  "nbformat": 4,
  "cells": [
    {
      "cell_type": "markdown",
      "metadata": {
        "id": "view-in-github",
        "colab_type": "text"
      },
      "source": [
        "<a href=\"https://colab.research.google.com/github/RaTon84/Kaggle/blob/main/Exercise_Grouping_and_Sorting.ipynb\" target=\"_parent\"><img src=\"https://colab.research.google.com/assets/colab-badge.svg\" alt=\"Open In Colab\"/></a>"
      ]
    },
    {
      "source": [
        "# IMPORTANT: RUN THIS CELL IN ORDER TO IMPORT YOUR KAGGLE DATA SOURCES,\n",
        "# THEN FEEL FREE TO DELETE THIS CELL.\n",
        "# NOTE: THIS NOTEBOOK ENVIRONMENT DIFFERS FROM KAGGLE'S PYTHON\n",
        "# ENVIRONMENT SO THERE MAY BE MISSING LIBRARIES USED BY YOUR\n",
        "# NOTEBOOK.\n",
        "import kagglehub\n",
        "nolanbconaway_pitchfork_data_path = kagglehub.dataset_download('nolanbconaway/pitchfork-data')\n",
        "datasnaek_chess_path = kagglehub.dataset_download('datasnaek/chess')\n",
        "organizations_nasa_kepler_exoplanet_search_results_path = kagglehub.dataset_download('organizations/nasa/kepler-exoplanet-search-results')\n",
        "residentmario_things_on_reddit_path = kagglehub.dataset_download('residentmario/things-on-reddit')\n",
        "zynicide_wine_reviews_path = kagglehub.dataset_download('zynicide/wine-reviews')\n",
        "residentmario_ramen_ratings_path = kagglehub.dataset_download('residentmario/ramen-ratings')\n",
        "dansbecker_powerlifting_database_path = kagglehub.dataset_download('dansbecker/powerlifting-database')\n",
        "datasnaek_youtube_new_path = kagglehub.dataset_download('datasnaek/youtube-new')\n",
        "rtatman_188_million_us_wildfires_path = kagglehub.dataset_download('rtatman/188-million-us-wildfires')\n",
        "jpmiller_publicassistance_path = kagglehub.dataset_download('jpmiller/publicassistance')\n",
        "\n",
        "print('Data source import complete.')\n"
      ],
      "metadata": {
        "id": "b7qFAwTPnnAy"
      },
      "cell_type": "code",
      "outputs": [],
      "execution_count": null
    },
    {
      "cell_type": "markdown",
      "source": [
        "**This notebook is an exercise in the [Pandas](https://www.kaggle.com/learn/pandas) course.  You can reference the tutorial at [this link](https://www.kaggle.com/residentmario/grouping-and-sorting).**\n",
        "\n",
        "---\n"
      ],
      "metadata": {
        "id": "KGCiebcKnnA0"
      }
    },
    {
      "cell_type": "markdown",
      "source": [
        "# Introduction\n",
        "\n",
        "In these exercises we'll apply groupwise analysis to our dataset.\n",
        "\n",
        "Run the code cell below to load the data before running the exercises."
      ],
      "metadata": {
        "id": "BpWKe0CGnnA1"
      }
    },
    {
      "cell_type": "code",
      "source": [
        "import pandas as pd\n",
        "\n",
        "reviews = pd.read_csv(\"../input/wine-reviews/winemag-data-130k-v2.csv\", index_col=0)\n",
        "#pd.set_option(\"display.max_rows\", 5)\n",
        "\n",
        "from learntools.core import binder; binder.bind(globals())\n",
        "from learntools.pandas.grouping_and_sorting import *\n",
        "print(\"Setup complete.\")"
      ],
      "metadata": {
        "trusted": true,
        "execution": {
          "iopub.status.busy": "2024-12-03T12:25:03.343723Z",
          "iopub.status.idle": "2024-12-03T12:25:03.344537Z",
          "shell.execute_reply.started": "2024-12-03T12:25:03.344224Z",
          "shell.execute_reply": "2024-12-03T12:25:03.344256Z"
        },
        "id": "UxIANTA7nnA1"
      },
      "outputs": [],
      "execution_count": null
    },
    {
      "cell_type": "markdown",
      "source": [
        "# Exercises"
      ],
      "metadata": {
        "id": "bKqREXTZnnA1"
      }
    },
    {
      "cell_type": "markdown",
      "source": [
        "## 1.\n",
        "Who are the most common wine reviewers in the dataset? Create a `Series` whose index is the `taster_twitter_handle` category from the dataset, and whose values count how many reviews each person wrote."
      ],
      "metadata": {
        "id": "zKWBlinpnnA1"
      }
    },
    {
      "cell_type": "code",
      "source": [
        "# Your code here\n",
        "# reviews_written = reviews[\"taster_twitter_handle\"].value_counts(ascending=False)\n",
        "reviews_written = reviews.groupby(\"taster_twitter_handle\").taster_twitter_handle.count()\n",
        "\n",
        "# Check your answer\n",
        "q1.check()\n",
        "print(reviews_written)\n",
        "reviews.head()"
      ],
      "metadata": {
        "trusted": true,
        "execution": {
          "iopub.status.busy": "2024-12-03T12:25:08.148941Z",
          "iopub.execute_input": "2024-12-03T12:25:08.149368Z",
          "iopub.status.idle": "2024-12-03T12:25:08.195918Z",
          "shell.execute_reply.started": "2024-12-03T12:25:08.149333Z",
          "shell.execute_reply": "2024-12-03T12:25:08.194791Z"
        },
        "id": "kXGn85nJnnA1",
        "outputId": "ac59479c-6a02-4962-84d1-b3a12b42a407"
      },
      "outputs": [
        {
          "output_type": "display_data",
          "data": {
            "text/plain": "<IPython.core.display.Javascript object>",
            "application/javascript": "parent.postMessage({\"jupyterEvent\": \"custom.exercise_interaction\", \"data\": {\"outcomeType\": 1, \"valueTowardsCompletion\": 0.16666666666666666, \"interactionType\": 1, \"questionType\": 1, \"questionId\": \"1_ReviewsWritten\", \"learnToolsVersion\": \"0.3.4\", \"failureMessage\": \"\", \"exceptionClass\": \"\", \"trace\": \"\"}}, \"*\")"
          },
          "metadata": {}
        },
        {
          "output_type": "display_data",
          "data": {
            "text/plain": "Correct: \n\n\n```python\nreviews_written = reviews.groupby('taster_twitter_handle').size()\n```\nor\n```python\nreviews_written = reviews.groupby('taster_twitter_handle').taster_twitter_handle.count()\n```",
            "text/markdown": "<span style=\"color:#33cc33\">Correct:</span> \n\n\n```python\nreviews_written = reviews.groupby('taster_twitter_handle').size()\n```\nor\n```python\nreviews_written = reviews.groupby('taster_twitter_handle').taster_twitter_handle.count()\n```\n"
          },
          "metadata": {}
        },
        {
          "name": "stdout",
          "text": "taster_twitter_handle\n@AnneInVino          3685\n@JoeCz               5147\n@bkfiona               27\n@gordone_cellars     4177\n@kerinokeefe        10776\n@laurbuzz            1835\n@mattkettmann        6332\n@paulgwine           9532\n@suskostrzewa        1085\n@vboone              9537\n@vossroger          25514\n@wawinereport        4966\n@wineschach         15134\n@winewchristina         6\n@worldwineguys       1005\nName: taster_twitter_handle, dtype: int64\n",
          "output_type": "stream"
        },
        {
          "execution_count": 3,
          "output_type": "execute_result",
          "data": {
            "text/plain": "    country                                        description  \\\n0     Italy  Aromas include tropical fruit, broom, brimston...   \n1  Portugal  This is ripe and fruity, a wine that is smooth...   \n2        US  Tart and snappy, the flavors of lime flesh and...   \n3        US  Pineapple rind, lemon pith and orange blossom ...   \n4        US  Much like the regular bottling from 2012, this...   \n\n                          designation  points  price           province  \\\n0                        Vulkà Bianco      87    NaN  Sicily & Sardinia   \n1                            Avidagos      87   15.0              Douro   \n2                                 NaN      87   14.0             Oregon   \n3                Reserve Late Harvest      87   13.0           Michigan   \n4  Vintner's Reserve Wild Child Block      87   65.0             Oregon   \n\n              region_1           region_2         taster_name  \\\n0                 Etna                NaN       Kerin O’Keefe   \n1                  NaN                NaN          Roger Voss   \n2    Willamette Valley  Willamette Valley        Paul Gregutt   \n3  Lake Michigan Shore                NaN  Alexander Peartree   \n4    Willamette Valley  Willamette Valley        Paul Gregutt   \n\n  taster_twitter_handle                                              title  \\\n0          @kerinokeefe                  Nicosia 2013 Vulkà Bianco  (Etna)   \n1            @vossroger      Quinta dos Avidagos 2011 Avidagos Red (Douro)   \n2           @paulgwine       Rainstorm 2013 Pinot Gris (Willamette Valley)   \n3                   NaN  St. Julian 2013 Reserve Late Harvest Riesling ...   \n4           @paulgwine   Sweet Cheeks 2012 Vintner's Reserve Wild Child...   \n\n          variety               winery  \n0     White Blend              Nicosia  \n1  Portuguese Red  Quinta dos Avidagos  \n2      Pinot Gris            Rainstorm  \n3        Riesling           St. Julian  \n4      Pinot Noir         Sweet Cheeks  ",
            "text/html": "<div>\n<style scoped>\n    .dataframe tbody tr th:only-of-type {\n        vertical-align: middle;\n    }\n\n    .dataframe tbody tr th {\n        vertical-align: top;\n    }\n\n    .dataframe thead th {\n        text-align: right;\n    }\n</style>\n<table border=\"1\" class=\"dataframe\">\n  <thead>\n    <tr style=\"text-align: right;\">\n      <th></th>\n      <th>country</th>\n      <th>description</th>\n      <th>designation</th>\n      <th>points</th>\n      <th>price</th>\n      <th>province</th>\n      <th>region_1</th>\n      <th>region_2</th>\n      <th>taster_name</th>\n      <th>taster_twitter_handle</th>\n      <th>title</th>\n      <th>variety</th>\n      <th>winery</th>\n    </tr>\n  </thead>\n  <tbody>\n    <tr>\n      <th>0</th>\n      <td>Italy</td>\n      <td>Aromas include tropical fruit, broom, brimston...</td>\n      <td>Vulkà Bianco</td>\n      <td>87</td>\n      <td>NaN</td>\n      <td>Sicily &amp; Sardinia</td>\n      <td>Etna</td>\n      <td>NaN</td>\n      <td>Kerin O’Keefe</td>\n      <td>@kerinokeefe</td>\n      <td>Nicosia 2013 Vulkà Bianco  (Etna)</td>\n      <td>White Blend</td>\n      <td>Nicosia</td>\n    </tr>\n    <tr>\n      <th>1</th>\n      <td>Portugal</td>\n      <td>This is ripe and fruity, a wine that is smooth...</td>\n      <td>Avidagos</td>\n      <td>87</td>\n      <td>15.0</td>\n      <td>Douro</td>\n      <td>NaN</td>\n      <td>NaN</td>\n      <td>Roger Voss</td>\n      <td>@vossroger</td>\n      <td>Quinta dos Avidagos 2011 Avidagos Red (Douro)</td>\n      <td>Portuguese Red</td>\n      <td>Quinta dos Avidagos</td>\n    </tr>\n    <tr>\n      <th>2</th>\n      <td>US</td>\n      <td>Tart and snappy, the flavors of lime flesh and...</td>\n      <td>NaN</td>\n      <td>87</td>\n      <td>14.0</td>\n      <td>Oregon</td>\n      <td>Willamette Valley</td>\n      <td>Willamette Valley</td>\n      <td>Paul Gregutt</td>\n      <td>@paulgwine</td>\n      <td>Rainstorm 2013 Pinot Gris (Willamette Valley)</td>\n      <td>Pinot Gris</td>\n      <td>Rainstorm</td>\n    </tr>\n    <tr>\n      <th>3</th>\n      <td>US</td>\n      <td>Pineapple rind, lemon pith and orange blossom ...</td>\n      <td>Reserve Late Harvest</td>\n      <td>87</td>\n      <td>13.0</td>\n      <td>Michigan</td>\n      <td>Lake Michigan Shore</td>\n      <td>NaN</td>\n      <td>Alexander Peartree</td>\n      <td>NaN</td>\n      <td>St. Julian 2013 Reserve Late Harvest Riesling ...</td>\n      <td>Riesling</td>\n      <td>St. Julian</td>\n    </tr>\n    <tr>\n      <th>4</th>\n      <td>US</td>\n      <td>Much like the regular bottling from 2012, this...</td>\n      <td>Vintner's Reserve Wild Child Block</td>\n      <td>87</td>\n      <td>65.0</td>\n      <td>Oregon</td>\n      <td>Willamette Valley</td>\n      <td>Willamette Valley</td>\n      <td>Paul Gregutt</td>\n      <td>@paulgwine</td>\n      <td>Sweet Cheeks 2012 Vintner's Reserve Wild Child...</td>\n      <td>Pinot Noir</td>\n      <td>Sweet Cheeks</td>\n    </tr>\n  </tbody>\n</table>\n</div>"
          },
          "metadata": {}
        }
      ],
      "execution_count": null
    },
    {
      "cell_type": "code",
      "source": [
        "q1.hint()\n",
        "q1.solution()"
      ],
      "metadata": {
        "trusted": true,
        "id": "HiL3YVTjnnA2",
        "outputId": "6de3dcc5-fc64-4118-a083-c0f290addabf"
      },
      "outputs": [
        {
          "output_type": "display_data",
          "data": {
            "text/plain": "<IPython.core.display.Javascript object>",
            "application/javascript": "parent.postMessage({\"jupyterEvent\": \"custom.exercise_interaction\", \"data\": {\"interactionType\": 2, \"questionType\": 1, \"questionId\": \"1_ReviewsWritten\", \"learnToolsVersion\": \"0.3.4\", \"valueTowardsCompletion\": 0.0, \"failureMessage\": \"\", \"exceptionClass\": \"\", \"trace\": \"\", \"outcomeType\": 4}}, \"*\")"
          },
          "metadata": {}
        },
        {
          "output_type": "display_data",
          "data": {
            "text/plain": "Hint: Use the `groupby` operation and `size()` (or `count()`).",
            "text/markdown": "<span style=\"color:#3366cc\">Hint:</span> Use the `groupby` operation and `size()` (or `count()`)."
          },
          "metadata": {}
        },
        {
          "output_type": "display_data",
          "data": {
            "text/plain": "<IPython.core.display.Javascript object>",
            "application/javascript": "parent.postMessage({\"jupyterEvent\": \"custom.exercise_interaction\", \"data\": {\"interactionType\": 3, \"questionType\": 1, \"questionId\": \"1_ReviewsWritten\", \"learnToolsVersion\": \"0.3.4\", \"valueTowardsCompletion\": 0.0, \"failureMessage\": \"\", \"exceptionClass\": \"\", \"trace\": \"\", \"outcomeType\": 4}}, \"*\")"
          },
          "metadata": {}
        },
        {
          "output_type": "display_data",
          "data": {
            "text/plain": "Solution: \n```python\nreviews_written = reviews.groupby('taster_twitter_handle').size()\n```\nor\n```python\nreviews_written = reviews.groupby('taster_twitter_handle').taster_twitter_handle.count()\n```",
            "text/markdown": "<span style=\"color:#33cc99\">Solution:</span> \n```python\nreviews_written = reviews.groupby('taster_twitter_handle').size()\n```\nor\n```python\nreviews_written = reviews.groupby('taster_twitter_handle').taster_twitter_handle.count()\n```\n"
          },
          "metadata": {}
        }
      ],
      "execution_count": null
    },
    {
      "cell_type": "markdown",
      "source": [
        "## 2.\n",
        "What is the best wine I can buy for a given amount of money? Create a `Series` whose index is wine prices and whose values is the maximum number of points a wine costing that much was given in a review. Sort the values by price, ascending (so that `4.0` dollars is at the top and `3300.0` dollars is at the bottom)."
      ],
      "metadata": {
        "id": "oiubk8OVnnA2"
      }
    },
    {
      "cell_type": "code",
      "source": [
        "best_rating_per_price = pd.Series(reviews.groupby(\"price\")[\"points\"].max())\n",
        "\n",
        "# Check your answer\n",
        "q2.check()\n",
        "best_rating_per_price\n",
        "# best_rating_per_price.size\n",
        "# reviews.price.unique().size"
      ],
      "metadata": {
        "trusted": true,
        "execution": {
          "iopub.status.busy": "2024-12-03T12:39:51.808096Z",
          "iopub.execute_input": "2024-12-03T12:39:51.809268Z",
          "iopub.status.idle": "2024-12-03T12:39:51.828183Z",
          "shell.execute_reply.started": "2024-12-03T12:39:51.809222Z",
          "shell.execute_reply": "2024-12-03T12:39:51.827082Z"
        },
        "id": "dXzUyo54nnA2",
        "outputId": "83f6555c-46cd-494a-a0cd-5c9f4ad44897"
      },
      "outputs": [
        {
          "output_type": "display_data",
          "data": {
            "text/plain": "<IPython.core.display.Javascript object>",
            "application/javascript": "parent.postMessage({\"jupyterEvent\": \"custom.exercise_interaction\", \"data\": {\"outcomeType\": 1, \"valueTowardsCompletion\": 0.16666666666666666, \"interactionType\": 1, \"questionType\": 1, \"questionId\": \"2_BestRatingPerPrice\", \"learnToolsVersion\": \"0.3.4\", \"failureMessage\": \"\", \"exceptionClass\": \"\", \"trace\": \"\"}}, \"*\")"
          },
          "metadata": {}
        },
        {
          "output_type": "display_data",
          "data": {
            "text/plain": "Correct",
            "text/markdown": "<span style=\"color:#33cc33\">Correct</span>"
          },
          "metadata": {}
        },
        {
          "execution_count": 19,
          "output_type": "execute_result",
          "data": {
            "text/plain": "price\n4.0       86\n5.0       87\n6.0       88\n7.0       91\n8.0       91\n          ..\n1900.0    98\n2000.0    97\n2013.0    91\n2500.0    96\n3300.0    88\nName: points, Length: 390, dtype: int64"
          },
          "metadata": {}
        }
      ],
      "execution_count": null
    },
    {
      "cell_type": "code",
      "source": [
        "q2.hint()\n",
        "q2.solution()"
      ],
      "metadata": {
        "trusted": true,
        "id": "cFJllK-RnnA3",
        "outputId": "d0fc62f1-ec47-4112-dfc3-1887733e6298"
      },
      "outputs": [
        {
          "output_type": "display_data",
          "data": {
            "text/plain": "<IPython.core.display.Javascript object>",
            "application/javascript": "parent.postMessage({\"jupyterEvent\": \"custom.exercise_interaction\", \"data\": {\"interactionType\": 3, \"questionType\": 1, \"questionId\": \"2_BestRatingPerPrice\", \"learnToolsVersion\": \"0.3.4\", \"valueTowardsCompletion\": 0.0, \"failureMessage\": \"\", \"exceptionClass\": \"\", \"trace\": \"\", \"outcomeType\": 4}}, \"*\")"
          },
          "metadata": {}
        },
        {
          "output_type": "display_data",
          "data": {
            "text/plain": "Solution: \n```python\nbest_rating_per_price = reviews.groupby('price')['points'].max().sort_index()\n```",
            "text/markdown": "<span style=\"color:#33cc99\">Solution:</span> \n```python\nbest_rating_per_price = reviews.groupby('price')['points'].max().sort_index()\n```"
          },
          "metadata": {}
        }
      ],
      "execution_count": null
    },
    {
      "cell_type": "markdown",
      "source": [
        "## 3.\n",
        "What are the minimum and maximum prices for each `variety` of wine? Create a `DataFrame` whose index is the `variety` category from the dataset and whose values are the `min` and `max` values thereof."
      ],
      "metadata": {
        "id": "pFkUA4KfnnA3"
      }
    },
    {
      "cell_type": "code",
      "source": [
        "# mins = pd.Series(reviews.groupby(\"variety\").price.min())\n",
        "# maxs = pd.Series(reviews.groupby(\"variety\").price.max())\n",
        "price_extremes = reviews.groupby(\"variety\").price.agg([min, max])\n",
        "\n",
        "\n",
        "# Check your answer\n",
        "q3.check()\n",
        "print(price_extremes)\n",
        "# print(reviews.variety.unique().size)"
      ],
      "metadata": {
        "trusted": true,
        "execution": {
          "iopub.status.busy": "2024-12-03T13:03:00.054965Z",
          "iopub.execute_input": "2024-12-03T13:03:00.055892Z",
          "iopub.status.idle": "2024-12-03T13:03:00.085657Z",
          "shell.execute_reply.started": "2024-12-03T13:03:00.055847Z",
          "shell.execute_reply": "2024-12-03T13:03:00.084474Z"
        },
        "id": "a6h__kSlnnA3",
        "outputId": "12a30e2a-e177-4bb9-9f1d-a22dca33e98b"
      },
      "outputs": [
        {
          "name": "stderr",
          "text": "/tmp/ipykernel_24/331947563.py:3: FutureWarning: The provided callable <built-in function min> is currently using SeriesGroupBy.min. In a future version of pandas, the provided callable will be used directly. To keep current behavior pass the string \"min\" instead.\n  price_extremes = reviews.groupby(\"variety\").price.agg([min, max])\n/tmp/ipykernel_24/331947563.py:3: FutureWarning: The provided callable <built-in function max> is currently using SeriesGroupBy.max. In a future version of pandas, the provided callable will be used directly. To keep current behavior pass the string \"max\" instead.\n  price_extremes = reviews.groupby(\"variety\").price.agg([min, max])\n",
          "output_type": "stream"
        },
        {
          "output_type": "display_data",
          "data": {
            "text/plain": "<IPython.core.display.Javascript object>",
            "application/javascript": "parent.postMessage({\"jupyterEvent\": \"custom.exercise_interaction\", \"data\": {\"outcomeType\": 1, \"valueTowardsCompletion\": 0.16666666666666666, \"interactionType\": 1, \"questionType\": 1, \"questionId\": \"3_PriceExtremes\", \"learnToolsVersion\": \"0.3.4\", \"failureMessage\": \"\", \"exceptionClass\": \"\", \"trace\": \"\"}}, \"*\")"
          },
          "metadata": {}
        },
        {
          "output_type": "display_data",
          "data": {
            "text/plain": "Correct",
            "text/markdown": "<span style=\"color:#33cc33\">Correct</span>"
          },
          "metadata": {}
        },
        {
          "name": "stdout",
          "text": "              min    max\nvariety                 \nAbouriou     15.0   75.0\nAgiorgitiko  10.0   66.0\nAglianico     6.0  180.0\nAidani       27.0   27.0\nAiren         8.0   10.0\n...           ...    ...\nZinfandel     5.0  100.0\nZlahtina     13.0   16.0\nZweigelt      9.0   70.0\nÇalkarası    19.0   19.0\nŽilavka      15.0   15.0\n\n[707 rows x 2 columns]\n",
          "output_type": "stream"
        }
      ],
      "execution_count": null
    },
    {
      "cell_type": "code",
      "source": [
        "q3.hint()\n",
        "q3.solution()"
      ],
      "metadata": {
        "trusted": true,
        "id": "avrpM5m7nnA3",
        "outputId": "41a756c6-d97c-4cf5-82eb-6d27d8c5b030"
      },
      "outputs": [
        {
          "output_type": "display_data",
          "data": {
            "text/plain": "<IPython.core.display.Javascript object>",
            "application/javascript": "parent.postMessage({\"jupyterEvent\": \"custom.exercise_interaction\", \"data\": {\"interactionType\": 3, \"questionType\": 1, \"questionId\": \"3_PriceExtremes\", \"learnToolsVersion\": \"0.3.4\", \"valueTowardsCompletion\": 0.0, \"failureMessage\": \"\", \"exceptionClass\": \"\", \"trace\": \"\", \"outcomeType\": 4}}, \"*\")"
          },
          "metadata": {}
        },
        {
          "output_type": "display_data",
          "data": {
            "text/plain": "Solution: \n```python\nprice_extremes = reviews.groupby('variety').price.agg([min, max])\n```",
            "text/markdown": "<span style=\"color:#33cc99\">Solution:</span> \n```python\nprice_extremes = reviews.groupby('variety').price.agg([min, max])\n```"
          },
          "metadata": {}
        }
      ],
      "execution_count": null
    },
    {
      "cell_type": "markdown",
      "source": [
        "## 4.\n",
        "What are the most expensive wine varieties? Create a variable `sorted_varieties` containing a copy of the dataframe from the previous question where varieties are sorted in descending order based on minimum price, then on maximum price (to break ties)."
      ],
      "metadata": {
        "id": "4OEPD13YnnA3"
      }
    },
    {
      "cell_type": "code",
      "source": [
        "sorted_varieties = ____\n",
        "\n",
        "# Check your answer\n",
        "q4.check()"
      ],
      "metadata": {
        "trusted": true,
        "execution": {
          "iopub.status.busy": "2024-12-02T19:16:19.360281Z",
          "iopub.execute_input": "2024-12-02T19:16:19.361287Z",
          "iopub.status.idle": "2024-12-02T19:16:19.374105Z",
          "shell.execute_reply.started": "2024-12-02T19:16:19.361247Z",
          "shell.execute_reply": "2024-12-02T19:16:19.373085Z"
        },
        "id": "Af2B6GYknnA3",
        "outputId": "7313477e-8341-4423-d9be-0d4e83940003"
      },
      "outputs": [
        {
          "output_type": "display_data",
          "data": {
            "text/plain": "<IPython.core.display.Javascript object>",
            "application/javascript": "parent.postMessage({\"jupyterEvent\": \"custom.exercise_interaction\", \"data\": {\"outcomeType\": 4, \"interactionType\": 1, \"questionType\": 1, \"questionId\": \"4_SortedVarieties\", \"learnToolsVersion\": \"0.3.4\", \"valueTowardsCompletion\": 0.0, \"failureMessage\": \"\", \"exceptionClass\": \"\", \"trace\": \"\"}}, \"*\")"
          },
          "metadata": {}
        },
        {
          "output_type": "display_data",
          "data": {
            "text/plain": "Check: When you've updated the starter code, `check()` will tell you whether your code is correct. You need to update the code that creates variable `sorted_varieties`",
            "text/markdown": "<span style=\"color:#ccaa33\">Check:</span> When you've updated the starter code, `check()` will tell you whether your code is correct. You need to update the code that creates variable `sorted_varieties`"
          },
          "metadata": {}
        }
      ],
      "execution_count": null
    },
    {
      "cell_type": "code",
      "source": [
        "#q4.hint()\n",
        "#q4.solution()"
      ],
      "metadata": {
        "trusted": true,
        "execution": {
          "iopub.status.busy": "2024-12-02T19:16:19.375384Z",
          "iopub.execute_input": "2024-12-02T19:16:19.37573Z",
          "iopub.status.idle": "2024-12-02T19:16:19.385394Z",
          "shell.execute_reply.started": "2024-12-02T19:16:19.375665Z",
          "shell.execute_reply": "2024-12-02T19:16:19.384342Z"
        },
        "id": "wY_xs5-ennA3"
      },
      "outputs": [],
      "execution_count": null
    },
    {
      "cell_type": "markdown",
      "source": [
        "## 5.\n",
        "Create a `Series` whose index is reviewers and whose values is the average review score given out by that reviewer. Hint: you will need the `taster_name` and `points` columns."
      ],
      "metadata": {
        "id": "PG_ez8gKnnA4"
      }
    },
    {
      "cell_type": "code",
      "source": [
        "reviewer_mean_ratings = ____\n",
        "\n",
        "# Check your answer\n",
        "q5.check()"
      ],
      "metadata": {
        "trusted": true,
        "execution": {
          "iopub.status.busy": "2024-12-02T19:16:19.389001Z",
          "iopub.execute_input": "2024-12-02T19:16:19.389949Z",
          "iopub.status.idle": "2024-12-02T19:16:19.405134Z",
          "shell.execute_reply.started": "2024-12-02T19:16:19.389908Z",
          "shell.execute_reply": "2024-12-02T19:16:19.404036Z"
        },
        "id": "F8quKhWunnA4",
        "outputId": "15b201f2-97d6-488b-a17e-761bfce164e6"
      },
      "outputs": [
        {
          "output_type": "display_data",
          "data": {
            "text/plain": "<IPython.core.display.Javascript object>",
            "application/javascript": "parent.postMessage({\"jupyterEvent\": \"custom.exercise_interaction\", \"data\": {\"outcomeType\": 4, \"interactionType\": 1, \"questionType\": 1, \"questionId\": \"5_ReviewerMeanRatings\", \"learnToolsVersion\": \"0.3.4\", \"valueTowardsCompletion\": 0.0, \"failureMessage\": \"\", \"exceptionClass\": \"\", \"trace\": \"\"}}, \"*\")"
          },
          "metadata": {}
        },
        {
          "output_type": "display_data",
          "data": {
            "text/plain": "Check: When you've updated the starter code, `check()` will tell you whether your code is correct. You need to update the code that creates variable `reviewer_mean_ratings`",
            "text/markdown": "<span style=\"color:#ccaa33\">Check:</span> When you've updated the starter code, `check()` will tell you whether your code is correct. You need to update the code that creates variable `reviewer_mean_ratings`"
          },
          "metadata": {}
        }
      ],
      "execution_count": null
    },
    {
      "cell_type": "code",
      "source": [
        "#q5.hint()\n",
        "#q5.solution()"
      ],
      "metadata": {
        "trusted": true,
        "execution": {
          "iopub.status.busy": "2024-12-02T19:16:19.40625Z",
          "iopub.execute_input": "2024-12-02T19:16:19.40655Z",
          "iopub.status.idle": "2024-12-02T19:16:19.414804Z",
          "shell.execute_reply.started": "2024-12-02T19:16:19.406519Z",
          "shell.execute_reply": "2024-12-02T19:16:19.41374Z"
        },
        "id": "y3p9l11jnnA4"
      },
      "outputs": [],
      "execution_count": null
    },
    {
      "cell_type": "markdown",
      "source": [
        "Are there significant differences in the average scores assigned by the various reviewers? Run the cell below to use the `describe()` method to see a summary of the range of values."
      ],
      "metadata": {
        "id": "DYcgPKmqnnA4"
      }
    },
    {
      "cell_type": "code",
      "source": [
        "reviewer_mean_ratings.describe()"
      ],
      "metadata": {
        "trusted": true,
        "execution": {
          "iopub.status.busy": "2024-12-02T19:16:19.416255Z",
          "iopub.execute_input": "2024-12-02T19:16:19.416715Z",
          "iopub.status.idle": "2024-12-02T19:16:19.614333Z",
          "shell.execute_reply.started": "2024-12-02T19:16:19.416665Z",
          "shell.execute_reply": "2024-12-02T19:16:19.613025Z"
        },
        "id": "OM4mfVwFnnA4",
        "outputId": "81de3592-455e-42d1-ce21-379013fe27f9"
      },
      "outputs": [
        {
          "traceback": [
            "\u001b[0;31m---------------------------------------------------------------------------\u001b[0m",
            "\u001b[0;31mAttributeError\u001b[0m                            Traceback (most recent call last)",
            "Cell \u001b[0;32mIn[36], line 1\u001b[0m\n\u001b[0;32m----> 1\u001b[0m \u001b[43mreviewer_mean_ratings\u001b[49m\u001b[38;5;241;43m.\u001b[39;49m\u001b[43mdescribe\u001b[49m()\n",
            "\u001b[0;31mAttributeError\u001b[0m: 'PlaceholderValue' object has no attribute 'describe'"
          ],
          "ename": "AttributeError",
          "evalue": "'PlaceholderValue' object has no attribute 'describe'",
          "output_type": "error"
        }
      ],
      "execution_count": null
    },
    {
      "cell_type": "markdown",
      "source": [
        "## 6.\n",
        "What combination of countries and varieties are most common? Create a `Series` whose index is a `MultiIndex`of `{country, variety}` pairs. For example, a pinot noir produced in the US should map to `{\"US\", \"Pinot Noir\"}`. Sort the values in the `Series` in descending order based on wine count."
      ],
      "metadata": {
        "id": "ViJntPPjnnA4"
      }
    },
    {
      "cell_type": "code",
      "source": [
        "country_variety_counts = ____\n",
        "\n",
        "# Check your answer\n",
        "q6.check()"
      ],
      "metadata": {
        "trusted": true,
        "execution": {
          "iopub.status.busy": "2024-12-02T19:16:19.615285Z",
          "iopub.status.idle": "2024-12-02T19:16:19.615719Z",
          "shell.execute_reply.started": "2024-12-02T19:16:19.615493Z",
          "shell.execute_reply": "2024-12-02T19:16:19.615512Z"
        },
        "id": "PdodbB0onnA4"
      },
      "outputs": [],
      "execution_count": null
    },
    {
      "cell_type": "code",
      "source": [
        "#q6.hint()\n",
        "#q6.solution()"
      ],
      "metadata": {
        "trusted": true,
        "execution": {
          "iopub.status.busy": "2024-12-02T19:16:19.616978Z",
          "iopub.status.idle": "2024-12-02T19:16:19.61736Z",
          "shell.execute_reply.started": "2024-12-02T19:16:19.617172Z",
          "shell.execute_reply": "2024-12-02T19:16:19.61719Z"
        },
        "id": "UWajXAaLnnA4"
      },
      "outputs": [],
      "execution_count": null
    },
    {
      "cell_type": "markdown",
      "source": [
        "# Keep going\n",
        "\n",
        "Move on to the [**data types and missing data**](https://www.kaggle.com/residentmario/data-types-and-missing-values)."
      ],
      "metadata": {
        "id": "kng_zaJ5nnA4"
      }
    },
    {
      "cell_type": "markdown",
      "source": [
        "---\n",
        "\n",
        "\n",
        "\n",
        "\n",
        "*Have questions or comments? Visit the [course discussion forum](https://www.kaggle.com/learn/pandas/discussion) to chat with other learners.*"
      ],
      "metadata": {
        "id": "huhuw4WgnnA4"
      }
    }
  ]
}
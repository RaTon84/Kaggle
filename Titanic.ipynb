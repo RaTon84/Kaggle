{
  "metadata": {
    "kernelspec": {
      "language": "python",
      "display_name": "Python 3",
      "name": "python3"
    },
    "language_info": {
      "name": "python",
      "version": "3.10.14",
      "mimetype": "text/x-python",
      "codemirror_mode": {
        "name": "ipython",
        "version": 3
      },
      "pygments_lexer": "ipython3",
      "nbconvert_exporter": "python",
      "file_extension": ".py"
    },
    "kaggle": {
      "accelerator": "none",
      "dataSources": [
        {
          "sourceId": 10172630,
          "sourceType": "datasetVersion",
          "datasetId": 6282855
        },
        {
          "sourceId": 10172649,
          "sourceType": "datasetVersion",
          "datasetId": 6282867
        }
      ],
      "dockerImageVersionId": 30804,
      "isInternetEnabled": false,
      "language": "python",
      "sourceType": "notebook",
      "isGpuEnabled": false
    },
    "colab": {
      "name": "Titanic",
      "provenance": [],
      "include_colab_link": true
    }
  },
  "nbformat_minor": 0,
  "nbformat": 4,
  "cells": [
    {
      "cell_type": "markdown",
      "metadata": {
        "id": "view-in-github",
        "colab_type": "text"
      },
      "source": [
        "<a href=\"https://colab.research.google.com/github/RaTon84/Kaggle/blob/main/Titanic.ipynb\" target=\"_parent\"><img src=\"https://colab.research.google.com/assets/colab-badge.svg\" alt=\"Open In Colab\"/></a>"
      ]
    },
    {
      "source": [
        "# IMPORTANT: SOME KAGGLE DATA SOURCES ARE PRIVATE\n",
        "# RUN THIS CELL IN ORDER TO IMPORT YOUR KAGGLE DATA SOURCES.\n",
        "import kagglehub\n",
        "kagglehub.login()\n"
      ],
      "metadata": {
        "id": "CimHLkpsO3ce"
      },
      "cell_type": "code",
      "outputs": [],
      "execution_count": null
    },
    {
      "source": [
        "# IMPORTANT: RUN THIS CELL IN ORDER TO IMPORT YOUR KAGGLE DATA SOURCES,\n",
        "# THEN FEEL FREE TO DELETE THIS CELL.\n",
        "# NOTE: THIS NOTEBOOK ENVIRONMENT DIFFERS FROM KAGGLE'S PYTHON\n",
        "# ENVIRONMENT SO THERE MAY BE MISSING LIBRARIES USED BY YOUR\n",
        "# NOTEBOOK.\n",
        "\n",
        "hernnviltez_train_data_path = kagglehub.dataset_download('hernnviltez/train-data')\n",
        "hernnviltez_test_data_path = kagglehub.dataset_download('hernnviltez/test-data')\n",
        "\n",
        "print('Data source import complete.')\n"
      ],
      "metadata": {
        "id": "SPB_UFPdO3cg"
      },
      "cell_type": "code",
      "outputs": [],
      "execution_count": null
    },
    {
      "cell_type": "code",
      "source": [
        "# This Python 3 environment comes with many helpful analytics libraries installed\n",
        "# It is defined by the kaggle/python Docker image: https://github.com/kaggle/docker-python\n",
        "# For example, here's several helpful packages to load\n",
        "\n",
        "import numpy as np # linear algebra\n",
        "import pandas as pd # data processing, CSV file I/O (e.g. pd.read_csv)\n",
        "import seaborn as sns\n",
        "from sklearn.ensemble import RandomForestClassifier\n",
        "from sklearn.impute import SimpleImputer\n",
        "from sklearn.preprocessing import OrdinalEncoder\n",
        "\n",
        "\n",
        "# Input data files are available in the read-only \"../input/\" directory\n",
        "# For example, running this (by clicking run or pressing Shift+Enter) will list all files under the input directory\n",
        "\n",
        "# import os\n",
        "# for dirname, _, filenames in os.walk('/kaggle/input'):\n",
        "#     for filename in filenames:\n",
        "#         print(os.path.join(dirname, filename))\n",
        "\n",
        "# You can write up to 20GB to the current directory (/kaggle/working/) that gets preserved as output when you create a version using \"Save & Run All\"\n",
        "# You can also write temporary files to /kaggle/temp/, but they won't be saved outside of the current session"
      ],
      "metadata": {
        "_uuid": "8f2839f25d086af736a60e9eeb907d3b93b6e0e5",
        "_cell_guid": "b1076dfc-b9ad-4769-8c92-a6c4dae69d19",
        "trusted": true,
        "execution": {
          "iopub.status.busy": "2024-12-11T19:37:43.030524Z",
          "iopub.execute_input": "2024-12-11T19:37:43.030908Z",
          "iopub.status.idle": "2024-12-11T19:37:44.962415Z",
          "shell.execute_reply.started": "2024-12-11T19:37:43.030875Z",
          "shell.execute_reply": "2024-12-11T19:37:44.961452Z"
        },
        "id": "OA1oH4QPO3ch"
      },
      "outputs": [],
      "execution_count": null
    },
    {
      "cell_type": "markdown",
      "source": [
        "## Traer los datos"
      ],
      "metadata": {
        "id": "zn-eSqRsO3ch"
      }
    },
    {
      "cell_type": "code",
      "source": [
        "df_train = pd.read_csv(\"/kaggle/input/train-data/train.csv\")\n",
        "df_test = pd.read_csv(\"/kaggle/input/test-data/test.csv\")"
      ],
      "metadata": {
        "trusted": true,
        "execution": {
          "iopub.status.busy": "2024-12-11T19:37:44.964252Z",
          "iopub.execute_input": "2024-12-11T19:37:44.964807Z",
          "iopub.status.idle": "2024-12-11T19:37:45.002807Z",
          "shell.execute_reply.started": "2024-12-11T19:37:44.964747Z",
          "shell.execute_reply": "2024-12-11T19:37:45.001743Z"
        },
        "id": "KzMC8lZEO3ci"
      },
      "outputs": [],
      "execution_count": null
    },
    {
      "cell_type": "markdown",
      "source": [
        "## analizar\n"
      ],
      "metadata": {
        "id": "HzV3iYIlO3ci"
      }
    },
    {
      "cell_type": "code",
      "source": [
        "print(df_train.duplicated().sum())\n",
        "print(df_train.nunique())\n",
        "df_train.isnull().sum()"
      ],
      "metadata": {
        "trusted": true,
        "execution": {
          "iopub.status.busy": "2024-12-11T19:37:45.00413Z",
          "iopub.execute_input": "2024-12-11T19:37:45.004529Z",
          "iopub.status.idle": "2024-12-11T19:37:45.039084Z",
          "shell.execute_reply.started": "2024-12-11T19:37:45.004492Z",
          "shell.execute_reply": "2024-12-11T19:37:45.03801Z"
        },
        "id": "tXcgR4ZQO3ci",
        "outputId": "1609dade-f79d-470a-e5a9-33428b4c5921"
      },
      "outputs": [
        {
          "name": "stdout",
          "text": "0\nPassengerId    891\nSurvived         2\nPclass           3\nName           891\nSex              2\nAge             88\nSibSp            7\nParch            7\nTicket         681\nFare           248\nCabin          147\nEmbarked         3\ndtype: int64\n",
          "output_type": "stream"
        },
        {
          "execution_count": 4,
          "output_type": "execute_result",
          "data": {
            "text/plain": "PassengerId      0\nSurvived         0\nPclass           0\nName             0\nSex              0\nAge            177\nSibSp            0\nParch            0\nTicket           0\nFare             0\nCabin          687\nEmbarked         2\ndtype: int64"
          },
          "metadata": {}
        }
      ],
      "execution_count": null
    },
    {
      "cell_type": "markdown",
      "source": [
        "## 1"
      ],
      "metadata": {
        "id": "BaIKYbHjO3cj"
      }
    },
    {
      "cell_type": "code",
      "source": [
        "columnas_categoricas = df_train.select_dtypes(include=[\"object\"]).columns\n",
        "columnas_numericas = df_train.select_dtypes(include=[\"int64\"]).columns"
      ],
      "metadata": {
        "trusted": true,
        "execution": {
          "iopub.status.busy": "2024-12-11T19:37:45.042266Z",
          "iopub.execute_input": "2024-12-11T19:37:45.042753Z",
          "iopub.status.idle": "2024-12-11T19:37:45.049338Z",
          "shell.execute_reply.started": "2024-12-11T19:37:45.0427Z",
          "shell.execute_reply": "2024-12-11T19:37:45.048165Z"
        },
        "id": "Im69C7LIO3cj"
      },
      "outputs": [],
      "execution_count": null
    },
    {
      "cell_type": "markdown",
      "source": [
        "## EDA\n",
        "Exploracion de datos analiticos"
      ],
      "metadata": {
        "id": "E7lHx0yaO3cj"
      }
    },
    {
      "cell_type": "code",
      "source": [
        "sns.countplot(x=\"Survived\", data=df_train)"
      ],
      "metadata": {
        "trusted": true,
        "execution": {
          "iopub.status.busy": "2024-12-11T19:37:45.050863Z",
          "iopub.execute_input": "2024-12-11T19:37:45.051164Z",
          "iopub.status.idle": "2024-12-11T19:37:45.340296Z",
          "shell.execute_reply.started": "2024-12-11T19:37:45.051135Z",
          "shell.execute_reply": "2024-12-11T19:37:45.338816Z"
        },
        "id": "nofyp9gpO3cj",
        "outputId": "9e9280f1-c010-430a-9dbd-4657d3cfb317"
      },
      "outputs": [
        {
          "execution_count": 6,
          "output_type": "execute_result",
          "data": {
            "text/plain": "<Axes: xlabel='Survived', ylabel='count'>"
          },
          "metadata": {}
        },
        {
          "output_type": "display_data",
          "data": {
            "text/plain": "<Figure size 640x480 with 1 Axes>",
            "image/png": "[encoded data removed]"
          },
          "metadata": {}
        }
      ],
      "execution_count": null
    },
    {
      "cell_type": "code",
      "source": [
        "sns.barplot(x=\"Sex\", y=\"Survived\", data=df_train)"
      ],
      "metadata": {
        "trusted": true,
        "execution": {
          "iopub.status.busy": "2024-12-11T19:37:45.342151Z",
          "iopub.execute_input": "2024-12-11T19:37:45.342914Z",
          "iopub.status.idle": "2024-12-11T19:37:45.641981Z",
          "shell.execute_reply.started": "2024-12-11T19:37:45.342855Z",
          "shell.execute_reply": "2024-12-11T19:37:45.640899Z"
        },
        "id": "hOCp7MHZO3ck",
        "outputId": "e6fc9f46-cd78-486a-dd66-e80811af9154"
      },
      "outputs": [
        {
          "execution_count": 7,
          "output_type": "execute_result",
          "data": {
            "text/plain": "<Axes: xlabel='Sex', ylabel='Survived'>"
          },
          "metadata": {}
        },
        {
          "output_type": "display_data",
          "data": {
            "text/plain": "<Figure size 640x480 with 1 Axes>",
            "image/png": "[encoded data removed]"
          },
          "metadata": {}
        }
      ],
      "execution_count": null
    },
    {
      "cell_type": "markdown",
      "source": [
        "## Conclusiones de la data\n",
        "Columnas que no aportan a la prediccion por sus tantos valores distintos que contienen\n"
      ],
      "metadata": {
        "id": "_tvhjiQbO3ck"
      }
    },
    {
      "cell_type": "code",
      "source": [
        "df_train.columns\n",
        "df_train_drop = df_train.drop(columns=[\"Cabin\",\"Fare\",\"Ticket\", \"Name\"])\n",
        "df_test_drop= df_test.drop(columns=[\"Cabin\",\"Fare\",\"Ticket\", \"Name\"])\n",
        "df_train_drop.head()"
      ],
      "metadata": {
        "trusted": true,
        "execution": {
          "iopub.status.busy": "2024-12-11T19:37:45.643935Z",
          "iopub.execute_input": "2024-12-11T19:37:45.64442Z",
          "iopub.status.idle": "2024-12-11T19:37:45.677914Z",
          "shell.execute_reply.started": "2024-12-11T19:37:45.644363Z",
          "shell.execute_reply": "2024-12-11T19:37:45.676723Z"
        },
        "id": "p8hDi2nQO3ck",
        "outputId": "2c9429e1-67a3-4776-9521-d9408a7ab7cf"
      },
      "outputs": [
        {
          "execution_count": 8,
          "output_type": "execute_result",
          "data": {
            "text/plain": "   PassengerId  Survived  Pclass     Sex   Age  SibSp  Parch Embarked\n0            1         0       3    male  22.0      1      0        S\n1            2         1       1  female  38.0      1      0        C\n2            3         1       3  female  26.0      0      0        S\n3            4         1       1  female  35.0      1      0        S\n4            5         0       3    male  35.0      0      0        S",
            "text/html": "<div>\n<style scoped>\n    .dataframe tbody tr th:only-of-type {\n        vertical-align: middle;\n    }\n\n    .dataframe tbody tr th {\n        vertical-align: top;\n    }\n\n    .dataframe thead th {\n        text-align: right;\n    }\n</style>\n<table border=\"1\" class=\"dataframe\">\n  <thead>\n    <tr style=\"text-align: right;\">\n      <th></th>\n      <th>PassengerId</th>\n      <th>Survived</th>\n      <th>Pclass</th>\n      <th>Sex</th>\n      <th>Age</th>\n      <th>SibSp</th>\n      <th>Parch</th>\n      <th>Embarked</th>\n    </tr>\n  </thead>\n  <tbody>\n    <tr>\n      <th>0</th>\n      <td>1</td>\n      <td>0</td>\n      <td>3</td>\n      <td>male</td>\n      <td>22.0</td>\n      <td>1</td>\n      <td>0</td>\n      <td>S</td>\n    </tr>\n    <tr>\n      <th>1</th>\n      <td>2</td>\n      <td>1</td>\n      <td>1</td>\n      <td>female</td>\n      <td>38.0</td>\n      <td>1</td>\n      <td>0</td>\n      <td>C</td>\n    </tr>\n    <tr>\n      <th>2</th>\n      <td>3</td>\n      <td>1</td>\n      <td>3</td>\n      <td>female</td>\n      <td>26.0</td>\n      <td>0</td>\n      <td>0</td>\n      <td>S</td>\n    </tr>\n    <tr>\n      <th>3</th>\n      <td>4</td>\n      <td>1</td>\n      <td>1</td>\n      <td>female</td>\n      <td>35.0</td>\n      <td>1</td>\n      <td>0</td>\n      <td>S</td>\n    </tr>\n    <tr>\n      <th>4</th>\n      <td>5</td>\n      <td>0</td>\n      <td>3</td>\n      <td>male</td>\n      <td>35.0</td>\n      <td>0</td>\n      <td>0</td>\n      <td>S</td>\n    </tr>\n  </tbody>\n</table>\n</div>"
          },
          "metadata": {}
        }
      ],
      "execution_count": null
    },
    {
      "cell_type": "markdown",
      "source": [
        "## Preparacion de los datos\n",
        "Separacion de varibles predictoras y el target"
      ],
      "metadata": {
        "id": "wPj-W_czO3ck"
      }
    },
    {
      "cell_type": "code",
      "source": [
        "# Variables predictora\n",
        "X= df_train_drop.drop(columns=[\"Survived\"])\n",
        "# Variable Target\n",
        "y= df_train.Survived\n",
        "# y\n",
        "X"
      ],
      "metadata": {
        "trusted": true,
        "execution": {
          "iopub.status.busy": "2024-12-11T19:37:45.678925Z",
          "iopub.execute_input": "2024-12-11T19:37:45.679315Z",
          "iopub.status.idle": "2024-12-11T19:37:45.70214Z",
          "shell.execute_reply.started": "2024-12-11T19:37:45.679278Z",
          "shell.execute_reply": "2024-12-11T19:37:45.700861Z"
        },
        "id": "xJHPH9knO3ck",
        "outputId": "be246591-0e1f-4378-bc5f-1517716b3c1d"
      },
      "outputs": [
        {
          "execution_count": 9,
          "output_type": "execute_result",
          "data": {
            "text/plain": "     PassengerId  Pclass     Sex   Age  SibSp  Parch Embarked\n0              1       3    male  22.0      1      0        S\n1              2       1  female  38.0      1      0        C\n2              3       3  female  26.0      0      0        S\n3              4       1  female  35.0      1      0        S\n4              5       3    male  35.0      0      0        S\n..           ...     ...     ...   ...    ...    ...      ...\n886          887       2    male  27.0      0      0        S\n887          888       1  female  19.0      0      0        S\n888          889       3  female   NaN      1      2        S\n889          890       1    male  26.0      0      0        C\n890          891       3    male  32.0      0      0        Q\n\n[891 rows x 7 columns]",
            "text/html": "<div>\n<style scoped>\n    .dataframe tbody tr th:only-of-type {\n        vertical-align: middle;\n    }\n\n    .dataframe tbody tr th {\n        vertical-align: top;\n    }\n\n    .dataframe thead th {\n        text-align: right;\n    }\n</style>\n<table border=\"1\" class=\"dataframe\">\n  <thead>\n    <tr style=\"text-align: right;\">\n      <th></th>\n      <th>PassengerId</th>\n      <th>Pclass</th>\n      <th>Sex</th>\n      <th>Age</th>\n      <th>SibSp</th>\n      <th>Parch</th>\n      <th>Embarked</th>\n    </tr>\n  </thead>\n  <tbody>\n    <tr>\n      <th>0</th>\n      <td>1</td>\n      <td>3</td>\n      <td>male</td>\n      <td>22.0</td>\n      <td>1</td>\n      <td>0</td>\n      <td>S</td>\n    </tr>\n    <tr>\n      <th>1</th>\n      <td>2</td>\n      <td>1</td>\n      <td>female</td>\n      <td>38.0</td>\n      <td>1</td>\n      <td>0</td>\n      <td>C</td>\n    </tr>\n    <tr>\n      <th>2</th>\n      <td>3</td>\n      <td>3</td>\n      <td>female</td>\n      <td>26.0</td>\n      <td>0</td>\n      <td>0</td>\n      <td>S</td>\n    </tr>\n    <tr>\n      <th>3</th>\n      <td>4</td>\n      <td>1</td>\n      <td>female</td>\n      <td>35.0</td>\n      <td>1</td>\n      <td>0</td>\n      <td>S</td>\n    </tr>\n    <tr>\n      <th>4</th>\n      <td>5</td>\n      <td>3</td>\n      <td>male</td>\n      <td>35.0</td>\n      <td>0</td>\n      <td>0</td>\n      <td>S</td>\n    </tr>\n    <tr>\n      <th>...</th>\n      <td>...</td>\n      <td>...</td>\n      <td>...</td>\n      <td>...</td>\n      <td>...</td>\n      <td>...</td>\n      <td>...</td>\n    </tr>\n    <tr>\n      <th>886</th>\n      <td>887</td>\n      <td>2</td>\n      <td>male</td>\n      <td>27.0</td>\n      <td>0</td>\n      <td>0</td>\n      <td>S</td>\n    </tr>\n    <tr>\n      <th>887</th>\n      <td>888</td>\n      <td>1</td>\n      <td>female</td>\n      <td>19.0</td>\n      <td>0</td>\n      <td>0</td>\n      <td>S</td>\n    </tr>\n    <tr>\n      <th>888</th>\n      <td>889</td>\n      <td>3</td>\n      <td>female</td>\n      <td>NaN</td>\n      <td>1</td>\n      <td>2</td>\n      <td>S</td>\n    </tr>\n    <tr>\n      <th>889</th>\n      <td>890</td>\n      <td>1</td>\n      <td>male</td>\n      <td>26.0</td>\n      <td>0</td>\n      <td>0</td>\n      <td>C</td>\n    </tr>\n    <tr>\n      <th>890</th>\n      <td>891</td>\n      <td>3</td>\n      <td>male</td>\n      <td>32.0</td>\n      <td>0</td>\n      <td>0</td>\n      <td>Q</td>\n    </tr>\n  </tbody>\n</table>\n<p>891 rows × 7 columns</p>\n</div>"
          },
          "metadata": {}
        }
      ],
      "execution_count": null
    },
    {
      "cell_type": "markdown",
      "source": [
        "## Mutar varibales categoricas a numericas\n",
        "\n",
        "from sklearn.preprocessing import OrdinalEncoder"
      ],
      "metadata": {
        "id": "D8EZ0jZSO3ck"
      }
    },
    {
      "cell_type": "code",
      "source": [
        "s=(X.dtypes==\"object\")\n",
        "object_cols= list(s[s].index)\n",
        "# X_columnas_categoricas = X.select_dtypes(include=[\"object\"]).columns\n",
        "# X_columnas_categoricas\n",
        "object_cols\n",
        "\n",
        "ordinal_encoder= OrdinalEncoder()\n",
        "X[object_cols]= ordinal_encoder.fit_transform(X[object_cols])\n",
        "df_test_drop[object_cols]= ordinal_encoder.fit_transform(df_test_drop[object_cols])\n",
        "X.head()\n",
        "# df_test_drop.head()"
      ],
      "metadata": {
        "trusted": true,
        "execution": {
          "iopub.status.busy": "2024-12-11T19:37:45.703651Z",
          "iopub.execute_input": "2024-12-11T19:37:45.704309Z",
          "iopub.status.idle": "2024-12-11T19:37:45.739133Z",
          "shell.execute_reply.started": "2024-12-11T19:37:45.704259Z",
          "shell.execute_reply": "2024-12-11T19:37:45.737684Z"
        },
        "id": "QKajjuAnO3ck",
        "outputId": "02e61111-551f-482c-ba75-8bf72ef24ef8"
      },
      "outputs": [
        {
          "execution_count": 10,
          "output_type": "execute_result",
          "data": {
            "text/plain": "   PassengerId  Pclass  Sex   Age  SibSp  Parch  Embarked\n0            1       3  1.0  22.0      1      0       2.0\n1            2       1  0.0  38.0      1      0       0.0\n2            3       3  0.0  26.0      0      0       2.0\n3            4       1  0.0  35.0      1      0       2.0\n4            5       3  1.0  35.0      0      0       2.0",
            "text/html": "<div>\n<style scoped>\n    .dataframe tbody tr th:only-of-type {\n        vertical-align: middle;\n    }\n\n    .dataframe tbody tr th {\n        vertical-align: top;\n    }\n\n    .dataframe thead th {\n        text-align: right;\n    }\n</style>\n<table border=\"1\" class=\"dataframe\">\n  <thead>\n    <tr style=\"text-align: right;\">\n      <th></th>\n      <th>PassengerId</th>\n      <th>Pclass</th>\n      <th>Sex</th>\n      <th>Age</th>\n      <th>SibSp</th>\n      <th>Parch</th>\n      <th>Embarked</th>\n    </tr>\n  </thead>\n  <tbody>\n    <tr>\n      <th>0</th>\n      <td>1</td>\n      <td>3</td>\n      <td>1.0</td>\n      <td>22.0</td>\n      <td>1</td>\n      <td>0</td>\n      <td>2.0</td>\n    </tr>\n    <tr>\n      <th>1</th>\n      <td>2</td>\n      <td>1</td>\n      <td>0.0</td>\n      <td>38.0</td>\n      <td>1</td>\n      <td>0</td>\n      <td>0.0</td>\n    </tr>\n    <tr>\n      <th>2</th>\n      <td>3</td>\n      <td>3</td>\n      <td>0.0</td>\n      <td>26.0</td>\n      <td>0</td>\n      <td>0</td>\n      <td>2.0</td>\n    </tr>\n    <tr>\n      <th>3</th>\n      <td>4</td>\n      <td>1</td>\n      <td>0.0</td>\n      <td>35.0</td>\n      <td>1</td>\n      <td>0</td>\n      <td>2.0</td>\n    </tr>\n    <tr>\n      <th>4</th>\n      <td>5</td>\n      <td>3</td>\n      <td>1.0</td>\n      <td>35.0</td>\n      <td>0</td>\n      <td>0</td>\n      <td>2.0</td>\n    </tr>\n  </tbody>\n</table>\n</div>"
          },
          "metadata": {}
        }
      ],
      "execution_count": null
    },
    {
      "cell_type": "markdown",
      "source": [
        "## Rellenar valores nulos\n"
      ],
      "metadata": {
        "id": "CyG7yALPO3ck"
      }
    },
    {
      "cell_type": "code",
      "source": [
        "imputer= SimpleImputer()\n",
        "x_transformed= pd.DataFrame(imputer.fit_transform(X))\n",
        "x_transformed.columns= X.columns\n",
        "\n",
        "# X.isnull().sum()\n",
        "x_transformed.isnull().sum()"
      ],
      "metadata": {
        "trusted": true,
        "execution": {
          "iopub.status.busy": "2024-12-11T19:37:45.743053Z",
          "iopub.execute_input": "2024-12-11T19:37:45.743565Z",
          "iopub.status.idle": "2024-12-11T19:37:45.760971Z",
          "shell.execute_reply.started": "2024-12-11T19:37:45.743515Z",
          "shell.execute_reply": "2024-12-11T19:37:45.759793Z"
        },
        "id": "ns52xe9cO3cl",
        "outputId": "2762896b-fac1-4317-f04d-3d88f4daad66"
      },
      "outputs": [
        {
          "execution_count": 11,
          "output_type": "execute_result",
          "data": {
            "text/plain": "PassengerId    0\nPclass         0\nSex            0\nAge            0\nSibSp          0\nParch          0\nEmbarked       0\ndtype: int64"
          },
          "metadata": {}
        }
      ],
      "execution_count": null
    },
    {
      "cell_type": "markdown",
      "source": [
        "## Modelo machine Learning"
      ],
      "metadata": {
        "id": "AQy17op7O3cl"
      }
    },
    {
      "cell_type": "code",
      "source": [
        "model=RandomForestClassifier()\n",
        "model.fit(x_transformed, y)"
      ],
      "metadata": {
        "trusted": true,
        "execution": {
          "iopub.status.busy": "2024-12-11T19:37:45.762965Z",
          "iopub.execute_input": "2024-12-11T19:37:45.763415Z",
          "iopub.status.idle": "2024-12-11T19:37:46.025291Z",
          "shell.execute_reply.started": "2024-12-11T19:37:45.763371Z",
          "shell.execute_reply": "2024-12-11T19:37:46.024168Z"
        },
        "id": "lEfaZicOO3cl",
        "outputId": "a40e8c6e-d9e7-40ee-f84f-bf3d7ba93c03"
      },
      "outputs": [
        {
          "execution_count": 12,
          "output_type": "execute_result",
          "data": {
            "text/plain": "RandomForestClassifier()",
            "text/html": "<style>#sk-container-id-1 {color: black;background-color: white;}#sk-container-id-1 pre{padding: 0;}#sk-container-id-1 div.sk-toggleable {background-color: white;}#sk-container-id-1 label.sk-toggleable__label {cursor: pointer;display: block;width: 100%;margin-bottom: 0;padding: 0.3em;box-sizing: border-box;text-align: center;}#sk-container-id-1 label.sk-toggleable__label-arrow:before {content: \"▸\";float: left;margin-right: 0.25em;color: #696969;}#sk-container-id-1 label.sk-toggleable__label-arrow:hover:before {color: black;}#sk-container-id-1 div.sk-estimator:hover label.sk-toggleable__label-arrow:before {color: black;}#sk-container-id-1 div.sk-toggleable__content {max-height: 0;max-width: 0;overflow: hidden;text-align: left;background-color: #f0f8ff;}#sk-container-id-1 div.sk-toggleable__content pre {margin: 0.2em;color: black;border-radius: 0.25em;background-color: #f0f8ff;}#sk-container-id-1 input.sk-toggleable__control:checked~div.sk-toggleable__content {max-height: 200px;max-width: 100%;overflow: auto;}#sk-container-id-1 input.sk-toggleable__control:checked~label.sk-toggleable__label-arrow:before {content: \"▾\";}#sk-container-id-1 div.sk-estimator input.sk-toggleable__control:checked~label.sk-toggleable__label {background-color: #d4ebff;}#sk-container-id-1 div.sk-label input.sk-toggleable__control:checked~label.sk-toggleable__label {background-color: #d4ebff;}#sk-container-id-1 input.sk-hidden--visually {border: 0;clip: rect(1px 1px 1px 1px);clip: rect(1px, 1px, 1px, 1px);height: 1px;margin: -1px;overflow: hidden;padding: 0;position: absolute;width: 1px;}#sk-container-id-1 div.sk-estimator {font-family: monospace;background-color: #f0f8ff;border: 1px dotted black;border-radius: 0.25em;box-sizing: border-box;margin-bottom: 0.5em;}#sk-container-id-1 div.sk-estimator:hover {background-color: #d4ebff;}#sk-container-id-1 div.sk-parallel-item::after {content: \"\";width: 100%;border-bottom: 1px solid gray;flex-grow: 1;}#sk-container-id-1 div.sk-label:hover label.sk-toggleable__label {background-color: #d4ebff;}#sk-container-id-1 div.sk-serial::before {content: \"\";position: absolute;border-left: 1px solid gray;box-sizing: border-box;top: 0;bottom: 0;left: 50%;z-index: 0;}#sk-container-id-1 div.sk-serial {display: flex;flex-direction: column;align-items: center;background-color: white;padding-right: 0.2em;padding-left: 0.2em;position: relative;}#sk-container-id-1 div.sk-item {position: relative;z-index: 1;}#sk-container-id-1 div.sk-parallel {display: flex;align-items: stretch;justify-content: center;background-color: white;position: relative;}#sk-container-id-1 div.sk-item::before, #sk-container-id-1 div.sk-parallel-item::before {content: \"\";position: absolute;border-left: 1px solid gray;box-sizing: border-box;top: 0;bottom: 0;left: 50%;z-index: -1;}#sk-container-id-1 div.sk-parallel-item {display: flex;flex-direction: column;z-index: 1;position: relative;background-color: white;}#sk-container-id-1 div.sk-parallel-item:first-child::after {align-self: flex-end;width: 50%;}#sk-container-id-1 div.sk-parallel-item:last-child::after {align-self: flex-start;width: 50%;}#sk-container-id-1 div.sk-parallel-item:only-child::after {width: 0;}#sk-container-id-1 div.sk-dashed-wrapped {border: 1px dashed gray;margin: 0 0.4em 0.5em 0.4em;box-sizing: border-box;padding-bottom: 0.4em;background-color: white;}#sk-container-id-1 div.sk-label label {font-family: monospace;font-weight: bold;display: inline-block;line-height: 1.2em;}#sk-container-id-1 div.sk-label-container {text-align: center;}#sk-container-id-1 div.sk-container {/* jupyter's `normalize.less` sets `[hidden] { display: none; }` but bootstrap.min.css set `[hidden] { display: none !important; }` so we also need the `!important` here to be able to override the default hidden behavior on the sphinx rendered scikit-learn.org. See: https://github.com/scikit-learn/scikit-learn/issues/21755 */display: inline-block !important;position: relative;}#sk-container-id-1 div.sk-text-repr-fallback {display: none;}</style><div id=\"sk-container-id-1\" class=\"sk-top-container\"><div class=\"sk-text-repr-fallback\"><pre>RandomForestClassifier()</pre><b>In a Jupyter environment, please rerun this cell to show the HTML representation or trust the notebook. <br />On GitHub, the HTML representation is unable to render, please try loading this page with nbviewer.org.</b></div><div class=\"sk-container\" hidden><div class=\"sk-item\"><div class=\"sk-estimator sk-toggleable\"><input class=\"sk-toggleable__control sk-hidden--visually\" id=\"sk-estimator-id-1\" type=\"checkbox\" checked><label for=\"sk-estimator-id-1\" class=\"sk-toggleable__label sk-toggleable__label-arrow\">RandomForestClassifier</label><div class=\"sk-toggleable__content\"><pre>RandomForestClassifier()</pre></div></div></div></div></div>"
          },
          "metadata": {}
        }
      ],
      "execution_count": null
    },
    {
      "cell_type": "markdown",
      "source": [
        "## Prediccion"
      ],
      "metadata": {
        "id": "dc-QGiwuO3cl"
      }
    },
    {
      "cell_type": "code",
      "source": [
        "# df_test[object_cols]= ordinal_encoder.fit_transform(df_test[object_cols])\n",
        "df_test_transformed= pd.DataFrame(imputer.transform(df_test_drop))\n",
        "df_test_transformed.columns= df_test_drop.columns\n",
        "\n",
        "# df_test_drop.isnull().sum()\n",
        "predictions= model.predict(df_test_transformed)\n",
        "predictions"
      ],
      "metadata": {
        "trusted": true,
        "execution": {
          "iopub.status.busy": "2024-12-11T19:37:46.026634Z",
          "iopub.execute_input": "2024-12-11T19:37:46.026962Z",
          "iopub.status.idle": "2024-12-11T19:37:46.054083Z",
          "shell.execute_reply.started": "2024-12-11T19:37:46.026932Z",
          "shell.execute_reply": "2024-12-11T19:37:46.052731Z"
        },
        "id": "dPhw0N4CO3cl",
        "outputId": "07762c0b-6a37-49ab-cff8-dd81f88968d3"
      },
      "outputs": [
        {
          "execution_count": 13,
          "output_type": "execute_result",
          "data": {
            "text/plain": "array([0, 0, 0, 0, 0, 0, 1, 0, 1, 0, 0, 0, 1, 0, 1, 1, 0, 0, 0, 0, 1, 1,\n       1, 1, 1, 0, 1, 0, 0, 0, 0, 0, 0, 0, 1, 0, 0, 0, 0, 0, 0, 0, 0, 1,\n       1, 0, 0, 0, 1, 0, 0, 1, 1, 1, 0, 0, 0, 0, 0, 1, 0, 0, 0, 0, 1, 1,\n       0, 0, 1, 1, 0, 0, 0, 1, 1, 1, 0, 1, 0, 0, 1, 0, 1, 0, 0, 0, 1, 0,\n       1, 1, 0, 0, 1, 0, 1, 0, 1, 0, 0, 0, 1, 0, 0, 0, 0, 0, 0, 0, 0, 0,\n       0, 1, 1, 0, 1, 0, 0, 1, 1, 1, 1, 0, 1, 0, 0, 1, 0, 1, 0, 0, 0, 1,\n       0, 0, 0, 0, 0, 0, 0, 0, 0, 1, 0, 0, 0, 0, 0, 0, 0, 0, 1, 0, 0, 0,\n       0, 0, 1, 0, 0, 0, 1, 1, 1, 0, 0, 0, 0, 0, 1, 0, 0, 0, 0, 0, 0, 1,\n       1, 1, 1, 1, 0, 0, 1, 0, 1, 0, 1, 0, 0, 0, 0, 0, 0, 0, 1, 0, 1, 0,\n       0, 0, 1, 1, 1, 1, 0, 1, 0, 0, 1, 0, 0, 0, 0, 0, 0, 0, 1, 0, 1, 0,\n       1, 0, 1, 0, 1, 1, 0, 1, 0, 0, 0, 1, 0, 0, 1, 0, 1, 1, 1, 1, 1, 1,\n       0, 0, 0, 0, 1, 0, 1, 0, 1, 0, 1, 0, 0, 0, 0, 0, 1, 0, 0, 0, 1, 1,\n       0, 0, 0, 0, 0, 0, 0, 0, 1, 1, 0, 1, 0, 0, 0, 0, 0, 1, 1, 0, 1, 0,\n       0, 0, 0, 0, 0, 1, 0, 0, 0, 0, 1, 0, 0, 0, 0, 0, 0, 0, 1, 1, 1, 1,\n       0, 0, 0, 0, 0, 0, 1, 0, 1, 0, 0, 0, 0, 0, 0, 0, 1, 0, 1, 0, 0, 0,\n       1, 1, 0, 0, 0, 0, 0, 0, 0, 0, 0, 0, 0, 1, 0, 0, 0, 0, 0, 1, 1, 0,\n       0, 0, 0, 1, 1, 0, 0, 0, 0, 1, 1, 0, 1, 0, 0, 0, 1, 1, 0, 1, 1, 0,\n       1, 1, 0, 0, 0, 0, 0, 0, 0, 0, 0, 1, 0, 0, 0, 0, 0, 1, 0, 0, 0, 1,\n       0, 1, 0, 0, 1, 0, 1, 0, 1, 1, 0, 0, 1, 1, 1, 1, 0, 0, 1, 0, 0, 1])"
          },
          "metadata": {}
        }
      ],
      "execution_count": null
    },
    {
      "cell_type": "markdown",
      "source": [
        "## Sumnission"
      ],
      "metadata": {
        "id": "uG8bkxqSO3cl"
      }
    },
    {
      "cell_type": "code",
      "source": [
        "output= pd.DataFrame({\"PassengerId\":df_test_drop.PassengerId, \"survived\":predictions})\n",
        "output\n",
        "\n",
        "# output.survived.sum()\n",
        "# output.shape\n",
        "# df_train.shape\n",
        "# y.survived.sum()\n",
        "# df_test_drop"
      ],
      "metadata": {
        "trusted": true,
        "execution": {
          "iopub.status.busy": "2024-12-11T19:39:00.179401Z",
          "iopub.execute_input": "2024-12-11T19:39:00.179821Z",
          "iopub.status.idle": "2024-12-11T19:39:00.193329Z",
          "shell.execute_reply.started": "2024-12-11T19:39:00.17979Z",
          "shell.execute_reply": "2024-12-11T19:39:00.19197Z"
        },
        "id": "1BbaU7H_O3cl",
        "outputId": "5c3416c5-f733-46f8-f6d3-a79cc5958405"
      },
      "outputs": [
        {
          "execution_count": 17,
          "output_type": "execute_result",
          "data": {
            "text/plain": "     PassengerId  survived\n0            892         0\n1            893         0\n2            894         0\n3            895         0\n4            896         0\n..           ...       ...\n413         1305         0\n414         1306         1\n415         1307         0\n416         1308         0\n417         1309         1\n\n[418 rows x 2 columns]",
            "text/html": "<div>\n<style scoped>\n    .dataframe tbody tr th:only-of-type {\n        vertical-align: middle;\n    }\n\n    .dataframe tbody tr th {\n        vertical-align: top;\n    }\n\n    .dataframe thead th {\n        text-align: right;\n    }\n</style>\n<table border=\"1\" class=\"dataframe\">\n  <thead>\n    <tr style=\"text-align: right;\">\n      <th></th>\n      <th>PassengerId</th>\n      <th>survived</th>\n    </tr>\n  </thead>\n  <tbody>\n    <tr>\n      <th>0</th>\n      <td>892</td>\n      <td>0</td>\n    </tr>\n    <tr>\n      <th>1</th>\n      <td>893</td>\n      <td>0</td>\n    </tr>\n    <tr>\n      <th>2</th>\n      <td>894</td>\n      <td>0</td>\n    </tr>\n    <tr>\n      <th>3</th>\n      <td>895</td>\n      <td>0</td>\n    </tr>\n    <tr>\n      <th>4</th>\n      <td>896</td>\n      <td>0</td>\n    </tr>\n    <tr>\n      <th>...</th>\n      <td>...</td>\n      <td>...</td>\n    </tr>\n    <tr>\n      <th>413</th>\n      <td>1305</td>\n      <td>0</td>\n    </tr>\n    <tr>\n      <th>414</th>\n      <td>1306</td>\n      <td>1</td>\n    </tr>\n    <tr>\n      <th>415</th>\n      <td>1307</td>\n      <td>0</td>\n    </tr>\n    <tr>\n      <th>416</th>\n      <td>1308</td>\n      <td>0</td>\n    </tr>\n    <tr>\n      <th>417</th>\n      <td>1309</td>\n      <td>1</td>\n    </tr>\n  </tbody>\n</table>\n<p>418 rows × 2 columns</p>\n</div>"
          },
          "metadata": {}
        }
      ],
      "execution_count": null
    }
  ]
}